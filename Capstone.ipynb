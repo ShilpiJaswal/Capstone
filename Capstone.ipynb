{
 "cells": [
  {
   "cell_type": "markdown",
   "metadata": {},
   "source": [
    "This project looks into the food inspections dataset for the various food facilities in Chicago, and would predict whether the food facility passed or failed the inspection taking into account the remarks from the violations column. This project will extensively use Natural Language Processing to achieve the said result."
   ]
  },
  {
   "cell_type": "code",
   "execution_count": 2,
   "metadata": {
    "collapsed": true
   },
   "outputs": [],
   "source": [
    "#Imports\n",
    "import numpy as np\n",
    "import pandas as pd\n",
    "import matplotlib.pyplot as plt\n",
    "import seaborn as sns\n",
    "%matplotlib inline"
   ]
  },
  {
   "cell_type": "markdown",
   "metadata": {},
   "source": [
    "The first thing to do is to read in the dataset using the Pandas' read_csv() function and naming the dataframe as 'df'."
   ]
  },
  {
   "cell_type": "code",
   "execution_count": 3,
   "metadata": {
    "collapsed": true
   },
   "outputs": [],
   "source": [
    "#Loading the file\n",
    "df = pd.read_csv('Food_Inspections.csv')"
   ]
  },
  {
   "cell_type": "code",
   "execution_count": 4,
   "metadata": {
    "scrolled": true
   },
   "outputs": [
    {
     "data": {
      "text/html": [
       "<div>\n",
       "<style>\n",
       "    .dataframe thead tr:only-child th {\n",
       "        text-align: right;\n",
       "    }\n",
       "\n",
       "    .dataframe thead th {\n",
       "        text-align: left;\n",
       "    }\n",
       "\n",
       "    .dataframe tbody tr th {\n",
       "        vertical-align: top;\n",
       "    }\n",
       "</style>\n",
       "<table border=\"1\" class=\"dataframe\">\n",
       "  <thead>\n",
       "    <tr style=\"text-align: right;\">\n",
       "      <th></th>\n",
       "      <th>Inspection ID</th>\n",
       "      <th>DBA Name</th>\n",
       "      <th>AKA Name</th>\n",
       "      <th>License #</th>\n",
       "      <th>Facility Type</th>\n",
       "      <th>Risk</th>\n",
       "      <th>Address</th>\n",
       "      <th>City</th>\n",
       "      <th>State</th>\n",
       "      <th>Zip</th>\n",
       "      <th>Inspection Date</th>\n",
       "      <th>Inspection Type</th>\n",
       "      <th>Results</th>\n",
       "      <th>Violations</th>\n",
       "      <th>Latitude</th>\n",
       "      <th>Longitude</th>\n",
       "      <th>Location</th>\n",
       "    </tr>\n",
       "  </thead>\n",
       "  <tbody>\n",
       "    <tr>\n",
       "      <th>0</th>\n",
       "      <td>1583759</td>\n",
       "      <td>TRELLIS WINE BAR</td>\n",
       "      <td>TRELLIS</td>\n",
       "      <td>39120.0</td>\n",
       "      <td>Restaurant</td>\n",
       "      <td>Risk 1 (High)</td>\n",
       "      <td>2426 N RACINE AVE</td>\n",
       "      <td>CHICAGO</td>\n",
       "      <td>IL</td>\n",
       "      <td>60614.0</td>\n",
       "      <td>11/02/2015</td>\n",
       "      <td>Canvass</td>\n",
       "      <td>Out of Business</td>\n",
       "      <td>NaN</td>\n",
       "      <td>41.926145</td>\n",
       "      <td>-87.658629</td>\n",
       "      <td>(41.92614517843091, -87.65862914275179)</td>\n",
       "    </tr>\n",
       "    <tr>\n",
       "      <th>1</th>\n",
       "      <td>1583758</td>\n",
       "      <td>LINKIN HOUSE</td>\n",
       "      <td>LINKIN HOUSE</td>\n",
       "      <td>1622089.0</td>\n",
       "      <td>Restaurant</td>\n",
       "      <td>Risk 1 (High)</td>\n",
       "      <td>2142 N CLYBOURN AVE</td>\n",
       "      <td>CHICAGO</td>\n",
       "      <td>IL</td>\n",
       "      <td>60614.0</td>\n",
       "      <td>11/02/2015</td>\n",
       "      <td>Canvass</td>\n",
       "      <td>Out of Business</td>\n",
       "      <td>NaN</td>\n",
       "      <td>41.920080</td>\n",
       "      <td>-87.662480</td>\n",
       "      <td>(41.920080499210265, -87.66248016891137)</td>\n",
       "    </tr>\n",
       "    <tr>\n",
       "      <th>2</th>\n",
       "      <td>1448062</td>\n",
       "      <td>NORDSTROM ESPRESSO BAR</td>\n",
       "      <td>NORDSTROM ESPRESSO BAR</td>\n",
       "      <td>1245107.0</td>\n",
       "      <td>Restaurant</td>\n",
       "      <td>Risk 2 (Medium)</td>\n",
       "      <td>55 E GRAND AVE</td>\n",
       "      <td>CHICAGO</td>\n",
       "      <td>IL</td>\n",
       "      <td>60611.0</td>\n",
       "      <td>11/03/2015</td>\n",
       "      <td>Canvass</td>\n",
       "      <td>Fail</td>\n",
       "      <td>33. FOOD AND NON-FOOD CONTACT EQUIPMENT UTENSI...</td>\n",
       "      <td>41.891591</td>\n",
       "      <td>-87.625867</td>\n",
       "      <td>(41.891590741083505, -87.62586713724458)</td>\n",
       "    </tr>\n",
       "    <tr>\n",
       "      <th>3</th>\n",
       "      <td>1465247</td>\n",
       "      <td>BP</td>\n",
       "      <td>BP</td>\n",
       "      <td>2417859.0</td>\n",
       "      <td>Grocery Store</td>\n",
       "      <td>Risk 3 (Low)</td>\n",
       "      <td>5133-5153 W NORTH AVE</td>\n",
       "      <td>CHICAGO</td>\n",
       "      <td>IL</td>\n",
       "      <td>60639.0</td>\n",
       "      <td>11/03/2015</td>\n",
       "      <td>License</td>\n",
       "      <td>Pass</td>\n",
       "      <td>38. VENTILATION: ROOMS AND EQUIPMENT VENTED AS...</td>\n",
       "      <td>41.909405</td>\n",
       "      <td>-87.754764</td>\n",
       "      <td>(41.909404662965976, -87.75476387362707)</td>\n",
       "    </tr>\n",
       "    <tr>\n",
       "      <th>4</th>\n",
       "      <td>1465243</td>\n",
       "      <td>STARBUCKS COFFEE #7948</td>\n",
       "      <td>STARBUCKS COFFEE</td>\n",
       "      <td>2385999.0</td>\n",
       "      <td>Restaurant</td>\n",
       "      <td>Risk 2 (Medium)</td>\n",
       "      <td>2730 N NARRAGANSETT AVE</td>\n",
       "      <td>CHICAGO</td>\n",
       "      <td>IL</td>\n",
       "      <td>60639.0</td>\n",
       "      <td>11/03/2015</td>\n",
       "      <td>License</td>\n",
       "      <td>Pass</td>\n",
       "      <td>NaN</td>\n",
       "      <td>41.930111</td>\n",
       "      <td>-87.785824</td>\n",
       "      <td>(41.93011062600186, -87.78582350333859)</td>\n",
       "    </tr>\n",
       "  </tbody>\n",
       "</table>\n",
       "</div>"
      ],
      "text/plain": [
       "   Inspection ID                DBA Name                AKA Name  License #  \\\n",
       "0        1583759        TRELLIS WINE BAR                 TRELLIS    39120.0   \n",
       "1        1583758            LINKIN HOUSE            LINKIN HOUSE  1622089.0   \n",
       "2        1448062  NORDSTROM ESPRESSO BAR  NORDSTROM ESPRESSO BAR  1245107.0   \n",
       "3        1465247                      BP                      BP  2417859.0   \n",
       "4        1465243  STARBUCKS COFFEE #7948        STARBUCKS COFFEE  2385999.0   \n",
       "\n",
       "   Facility Type             Risk                   Address     City State  \\\n",
       "0     Restaurant    Risk 1 (High)        2426 N RACINE AVE   CHICAGO    IL   \n",
       "1     Restaurant    Risk 1 (High)      2142 N CLYBOURN AVE   CHICAGO    IL   \n",
       "2     Restaurant  Risk 2 (Medium)           55 E GRAND AVE   CHICAGO    IL   \n",
       "3  Grocery Store     Risk 3 (Low)    5133-5153 W NORTH AVE   CHICAGO    IL   \n",
       "4     Restaurant  Risk 2 (Medium)  2730 N NARRAGANSETT AVE   CHICAGO    IL   \n",
       "\n",
       "       Zip Inspection Date Inspection Type          Results  \\\n",
       "0  60614.0      11/02/2015         Canvass  Out of Business   \n",
       "1  60614.0      11/02/2015         Canvass  Out of Business   \n",
       "2  60611.0      11/03/2015         Canvass             Fail   \n",
       "3  60639.0      11/03/2015         License             Pass   \n",
       "4  60639.0      11/03/2015         License             Pass   \n",
       "\n",
       "                                          Violations   Latitude  Longitude  \\\n",
       "0                                                NaN  41.926145 -87.658629   \n",
       "1                                                NaN  41.920080 -87.662480   \n",
       "2  33. FOOD AND NON-FOOD CONTACT EQUIPMENT UTENSI...  41.891591 -87.625867   \n",
       "3  38. VENTILATION: ROOMS AND EQUIPMENT VENTED AS...  41.909405 -87.754764   \n",
       "4                                                NaN  41.930111 -87.785824   \n",
       "\n",
       "                                   Location  \n",
       "0   (41.92614517843091, -87.65862914275179)  \n",
       "1  (41.920080499210265, -87.66248016891137)  \n",
       "2  (41.891590741083505, -87.62586713724458)  \n",
       "3  (41.909404662965976, -87.75476387362707)  \n",
       "4   (41.93011062600186, -87.78582350333859)  "
      ]
     },
     "execution_count": 4,
     "metadata": {},
     "output_type": "execute_result"
    }
   ],
   "source": [
    "#Displaying the first 5 rows of the dataset\n",
    "df.head()"
   ]
  },
  {
   "cell_type": "markdown",
   "metadata": {},
   "source": [
    "Variables Description:\n",
    "\n",
    "Inspection Id: Inspection Id\n",
    "\n",
    "DBA Name: Name of the facility\n",
    "\n",
    "AKA Name: Alias name\n",
    "\n",
    "License#: License number of the facility\n",
    "\n",
    "Facility Type: Type of the facility\n",
    "\n",
    "Risk: Risk 1,2 or 3\n",
    "\n",
    "Address: Address of the facility\n",
    "\n",
    "City: City\n",
    "\n",
    "State: State\n",
    "\n",
    "Zip: Zip code\n",
    "\n",
    "Inspection Date: Date of inspection\n",
    "\n",
    "Inspection Type: Type of inspection \n",
    "\n",
    "Results: Result of the inspection , Pass,Fail,Pass with conditions etc\n",
    "\n",
    "Violations: Violations remarks\n",
    "\n",
    "Latitude: Latitude\n",
    "\n",
    "Longitude: Longitude\n",
    "\n",
    "Location: Location"
   ]
  },
  {
   "cell_type": "code",
   "execution_count": 5,
   "metadata": {},
   "outputs": [
    {
     "name": "stdout",
     "output_type": "stream",
     "text": [
      "<class 'pandas.core.frame.DataFrame'>\n",
      "RangeIndex: 42288 entries, 0 to 42287\n",
      "Data columns (total 17 columns):\n",
      "Inspection ID      42288 non-null int64\n",
      "DBA Name           42288 non-null object\n",
      "AKA Name           41877 non-null object\n",
      "License #          42286 non-null float64\n",
      "Facility Type      41989 non-null object\n",
      "Risk               42273 non-null object\n",
      "Address            42288 non-null object\n",
      "City               42246 non-null object\n",
      "State              42280 non-null object\n",
      "Zip                42273 non-null float64\n",
      "Inspection Date    42288 non-null object\n",
      "Inspection Type    42287 non-null object\n",
      "Results            42288 non-null object\n",
      "Violations         34484 non-null object\n",
      "Latitude           42133 non-null float64\n",
      "Longitude          42133 non-null float64\n",
      "Location           42133 non-null object\n",
      "dtypes: float64(4), int64(1), object(12)\n",
      "memory usage: 5.5+ MB\n"
     ]
    }
   ],
   "source": [
    "# Displays the columns and the type of columns\n",
    "df.info()"
   ]
  },
  {
   "cell_type": "code",
   "execution_count": 6,
   "metadata": {
    "collapsed": true
   },
   "outputs": [],
   "source": [
    "# Replacing the spaces of columns names with an underscore and\n",
    "df.columns =[x.lower().replace(' ','_') for x in df.columns]"
   ]
  },
  {
   "cell_type": "code",
   "execution_count": 7,
   "metadata": {},
   "outputs": [
    {
     "data": {
      "text/plain": [
       "Index(['inspection_id', 'dba_name', 'aka_name', 'license_#', 'facility_type',\n",
       "       'risk', 'address', 'city', 'state', 'zip', 'inspection_date',\n",
       "       'inspection_type', 'results', 'violations', 'latitude', 'longitude',\n",
       "       'location'],\n",
       "      dtype='object')"
      ]
     },
     "execution_count": 7,
     "metadata": {},
     "output_type": "execute_result"
    }
   ],
   "source": [
    "df.columns"
   ]
  },
  {
   "cell_type": "code",
   "execution_count": 8,
   "metadata": {},
   "outputs": [
    {
     "data": {
      "text/plain": [
       "(42288, 17)"
      ]
     },
     "execution_count": 8,
     "metadata": {},
     "output_type": "execute_result"
    }
   ],
   "source": [
    "#Checking for the number of rows and columns in the dataset\n",
    "df.shape"
   ]
  },
  {
   "cell_type": "markdown",
   "metadata": {},
   "source": [
    "Check for the null values"
   ]
  },
  {
   "cell_type": "code",
   "execution_count": 200,
   "metadata": {
    "scrolled": true
   },
   "outputs": [
    {
     "data": {
      "text/plain": [
       "inspection_id         0\n",
       "dba_name              0\n",
       "aka_name            411\n",
       "license_#             2\n",
       "facility_type         0\n",
       "risk                 15\n",
       "address               0\n",
       "city                 42\n",
       "state                 8\n",
       "zip                  15\n",
       "inspection_date       0\n",
       "inspection_type       1\n",
       "results               0\n",
       "violations         7804\n",
       "latitude            155\n",
       "longitude           155\n",
       "location            155\n",
       "dtype: int64"
      ]
     },
     "execution_count": 200,
     "metadata": {},
     "output_type": "execute_result"
    }
   ],
   "source": [
    "df.isnull().sum()"
   ]
  },
  {
   "cell_type": "code",
   "execution_count": 202,
   "metadata": {
    "collapsed": true
   },
   "outputs": [],
   "source": [
    "df['violations'].fillna('None',inplace = True)"
   ]
  },
  {
   "cell_type": "code",
   "execution_count": 203,
   "metadata": {
    "collapsed": true
   },
   "outputs": [],
   "source": [
    "df.dropna(axis=0,inplace=True)"
   ]
  },
  {
   "cell_type": "code",
   "execution_count": 204,
   "metadata": {
    "scrolled": true
   },
   "outputs": [
    {
     "data": {
      "text/plain": [
       "inspection_id      0\n",
       "dba_name           0\n",
       "aka_name           0\n",
       "license_#          0\n",
       "facility_type      0\n",
       "risk               0\n",
       "address            0\n",
       "city               0\n",
       "state              0\n",
       "zip                0\n",
       "inspection_date    0\n",
       "inspection_type    0\n",
       "results            0\n",
       "violations         0\n",
       "latitude           0\n",
       "longitude          0\n",
       "location           0\n",
       "dtype: int64"
      ]
     },
     "execution_count": 204,
     "metadata": {},
     "output_type": "execute_result"
    }
   ],
   "source": [
    "df.isnull().sum()"
   ]
  },
  {
   "cell_type": "markdown",
   "metadata": {},
   "source": [
    "Converting the Results column to binary values: pass and fail"
   ]
  },
  {
   "cell_type": "code",
   "execution_count": 192,
   "metadata": {},
   "outputs": [
    {
     "data": {
      "text/plain": [
       "Pass                    24080\n",
       "Fail                     8007\n",
       "Pass w/ Conditions       4525\n",
       "Out of Business          2949\n",
       "No Entry                 2006\n",
       "Not Ready                 713\n",
       "Business Not Located        8\n",
       "Name: results, dtype: int64"
      ]
     },
     "execution_count": 192,
     "metadata": {},
     "output_type": "execute_result"
    }
   ],
   "source": [
    "df['results'].value_counts()"
   ]
  },
  {
   "cell_type": "code",
   "execution_count": 193,
   "metadata": {
    "collapsed": true
   },
   "outputs": [],
   "source": [
    "df['results'] = df['results'].map(lambda x: 1 if x == 'Pass' or x == 'Pass w/ Conditions' else 0)"
   ]
  },
  {
   "cell_type": "code",
   "execution_count": 194,
   "metadata": {},
   "outputs": [
    {
     "data": {
      "text/plain": [
       "1    28605\n",
       "0    13683\n",
       "Name: results, dtype: int64"
      ]
     },
     "execution_count": 194,
     "metadata": {},
     "output_type": "execute_result"
    }
   ],
   "source": [
    "df['results'].value_counts()"
   ]
  },
  {
   "cell_type": "code",
   "execution_count": 214,
   "metadata": {},
   "outputs": [
    {
     "data": {
      "text/plain": [
       "<matplotlib.axes._subplots.AxesSubplot at 0x1a20ac9f28>"
      ]
     },
     "execution_count": 214,
     "metadata": {},
     "output_type": "execute_result"
    },
    {
     "data": {
      "image/png": "[encoded data removed]",
      "text/plain": [
       "<matplotlib.figure.Figure at 0x1a20236898>"
      ]
     },
     "metadata": {},
     "output_type": "display_data"
    }
   ],
   "source": [
    "sns.countplot(x='results',data=df, palette='hls')"
   ]
  },
  {
   "cell_type": "code",
   "execution_count": 10,
   "metadata": {
    "scrolled": true
   },
   "outputs": [
    {
     "data": {
      "text/plain": [
       "Restaurant                         29854\n",
       "Grocery Store                       4913\n",
       "School                              2258\n",
       "Children's Services Facility         735\n",
       "Bakery                               646\n",
       "Daycare (2 - 6 Years)                508\n",
       "Daycare Above and Under 2 Years      487\n",
       "Long Term Care                       332\n",
       "Catering                             252\n",
       "Mobile Food Preparer                 240\n",
       "Liquor                               183\n",
       "Mobile Food Dispenser                142\n",
       "Hospital                             136\n",
       "Daycare Combo 1586                   125\n",
       "Golden Diner                         123\n",
       "Special Event                         49\n",
       "TAVERN                                46\n",
       "BANQUET HALL                          37\n",
       "Shared Kitchen                        35\n",
       "Mobile Prepared Food Vendor           34\n",
       "GAS STATION                           31\n",
       "Daycare (Under 2 Years)               29\n",
       "CHARTER SCHOOL                        25\n",
       "Shared Kitchen User (Long Term)       25\n",
       "Wholesale                             22\n",
       "CHURCH KITCHEN                        13\n",
       "BANQUET                               12\n",
       "PRIVATE SCHOOL                        12\n",
       "RESTAURANT/GROCERY STORE              11\n",
       "CONVENIENCE                           11\n",
       "                                   ...  \n",
       "CULINARY ARTS SCHOOL                   1\n",
       "HERBALCAL                              1\n",
       "VENDING MACHINE                        1\n",
       "BAKERY/RESTAURANT                      1\n",
       "CHINESE HERBS                          1\n",
       "Long-Term Care                         1\n",
       "SUPPORTIVE LIVING FACILITY             1\n",
       "HERBAL                                 1\n",
       "COFFEE ROASTER                         1\n",
       "BEFORE AND AFTER SCHOOL PROGRAM        1\n",
       "SPA                                    1\n",
       "COFFEE KIOSK                           1\n",
       "COFFEE/TEA                             1\n",
       "TAP room/tavern/liquor store           1\n",
       "convenience                            1\n",
       "Tavern                                 1\n",
       "WHOLESALE & RETAIL                     1\n",
       "Gift Shop                              1\n",
       "HERBAL LIFE                            1\n",
       "Assisted Living                        1\n",
       "fitness center                         1\n",
       "SMOKEHOUSE                             1\n",
       "Banquet Hall                           1\n",
       "smoothie bar                           1\n",
       "PREPACAKAGED FOODS                     1\n",
       "CHILDRENS SERVICES FACILITY            1\n",
       "SERVICE BAR/THEATRE                    1\n",
       "DOLLAR STORE                           1\n",
       "Supporting Living                      1\n",
       "ROOFTOP/RESTAURANT                     1\n",
       "Name: facility_type, Length: 261, dtype: int64"
      ]
     },
     "execution_count": 10,
     "metadata": {},
     "output_type": "execute_result"
    }
   ],
   "source": [
    "# Checking the values for different facilities\n",
    "df['facility_type'].value_counts()"
   ]
  },
  {
   "cell_type": "markdown",
   "metadata": {},
   "source": [
    "Mapping the restaurant feature so that 1 denotes Restaurant and 0 represents any other facility"
   ]
  },
  {
   "cell_type": "code",
   "execution_count": 197,
   "metadata": {
    "collapsed": true
   },
   "outputs": [],
   "source": [
    "df['facility_type'] = df['facility_type'].map(lambda x: 1 if x == 'Restaurant' else 0)"
   ]
  },
  {
   "cell_type": "code",
   "execution_count": 198,
   "metadata": {},
   "outputs": [
    {
     "data": {
      "text/plain": [
       "1    29854\n",
       "0    12434\n",
       "Name: facility_type, dtype: int64"
      ]
     },
     "execution_count": 198,
     "metadata": {},
     "output_type": "execute_result"
    }
   ],
   "source": [
    "df['facility_type'].value_counts()"
   ]
  },
  {
   "cell_type": "code",
   "execution_count": 217,
   "metadata": {},
   "outputs": [
    {
     "data": {
      "text/plain": [
       "<matplotlib.axes._subplots.AxesSubplot at 0x1a201245f8>"
      ]
     },
     "execution_count": 217,
     "metadata": {},
     "output_type": "execute_result"
    },
    {
     "data": {
      "image/png": "[encoded data removed]",
      "text/plain": [
       "<matplotlib.figure.Figure at 0x1a200e2f98>"
      ]
     },
     "metadata": {},
     "output_type": "display_data"
    }
   ],
   "source": [
    "# Number of food inspections by facility type\n",
    "sns.countplot(x='facility_type',data=df, palette='hls')"
   ]
  },
  {
   "cell_type": "code",
   "execution_count": 11,
   "metadata": {},
   "outputs": [
    {
     "data": {
      "text/plain": [
       "Canvass                                   23177\n",
       "Canvass Re-Inspection                      5589\n",
       "License                                    5310\n",
       "Complaint                                  3836\n",
       "Complaint Re-Inspection                    1538\n",
       "License Re-Inspection                      1412\n",
       "Short Form Complaint                       1150\n",
       "Suspected Food Poisoning                    114\n",
       "Recent Inspection                            85\n",
       "Consultation                                 39\n",
       "Suspected Food Poisoning Re-inspection       25\n",
       "Special Events (Festivals)                    6\n",
       "Tag Removal                                   3\n",
       "FIRE                                          1\n",
       "fire complaint                                1\n",
       "Non-Inspection                                1\n",
       "Name: inspection_type, dtype: int64"
      ]
     },
     "execution_count": 11,
     "metadata": {},
     "output_type": "execute_result"
    }
   ],
   "source": [
    "#Inspection types\n",
    "df['inspection_type'].value_counts()"
   ]
  },
  {
   "cell_type": "code",
   "execution_count": 212,
   "metadata": {},
   "outputs": [
    {
     "data": {
      "text/plain": [
       "09/13/2016    145\n",
       "11/29/2016    141\n",
       "09/26/2016    138\n",
       "10/04/2016    134\n",
       "09/09/2016    134\n",
       "06/16/2016    134\n",
       "09/29/2016    134\n",
       "09/15/2016    133\n",
       "09/08/2016    133\n",
       "03/21/2017    132\n",
       "09/30/2016    132\n",
       "08/18/2016    132\n",
       "04/05/2016    131\n",
       "08/29/2016    130\n",
       "09/16/2016    130\n",
       "05/26/2016    130\n",
       "05/03/2016    130\n",
       "08/30/2016    128\n",
       "08/22/2016    128\n",
       "05/03/2017    126\n",
       "10/25/2016    125\n",
       "03/01/2016    125\n",
       "06/23/2016    125\n",
       "05/05/2016    125\n",
       "10/05/2016    125\n",
       "03/21/2016    123\n",
       "11/03/2016    123\n",
       "05/04/2017    123\n",
       "04/07/2016    123\n",
       "05/11/2017    122\n",
       "             ... \n",
       "01/03/2017     24\n",
       "12/07/2015     18\n",
       "02/02/2016     15\n",
       "07/11/2016     13\n",
       "11/07/2016     12\n",
       "06/10/2017     12\n",
       "06/05/2017     10\n",
       "05/02/2016      8\n",
       "12/30/2016      8\n",
       "06/06/2016      8\n",
       "08/07/2017      8\n",
       "07/01/2016      7\n",
       "09/12/2016      6\n",
       "06/24/2017      6\n",
       "08/01/2016      6\n",
       "10/12/2016      5\n",
       "03/13/2017      4\n",
       "10/03/2016      4\n",
       "09/11/2017      4\n",
       "08/26/2017      4\n",
       "11/01/2017      4\n",
       "01/04/2016      3\n",
       "05/01/2017      3\n",
       "02/29/2016      2\n",
       "04/03/2017      2\n",
       "11/02/2015      2\n",
       "02/11/2017      1\n",
       "02/06/2017      1\n",
       "10/02/2017      1\n",
       "01/09/2017      1\n",
       "Name: inspection_date, Length: 499, dtype: int64"
      ]
     },
     "execution_count": 212,
     "metadata": {},
     "output_type": "execute_result"
    }
   ],
   "source": [
    "# Number of food inspection by inspection date\n",
    "df['inspection_date'].value_counts()"
   ]
  },
  {
   "cell_type": "code",
   "execution_count": 213,
   "metadata": {},
   "outputs": [
    {
     "data": {
      "text/plain": [
       "<matplotlib.axes._subplots.AxesSubplot at 0x1a23d186a0>"
      ]
     },
     "execution_count": 213,
     "metadata": {},
     "output_type": "execute_result"
    },
    {
     "data": {
      "image/png": "[encoded data removed]",
      "text/plain": [
       "<matplotlib.figure.Figure at 0x1a196bea58>"
      ]
     },
     "metadata": {},
     "output_type": "display_data"
    }
   ],
   "source": [
    "# Number of food inspections by risk\n",
    "sns.countplot(x='risk',data = df, palette ='hls')"
   ]
  },
  {
   "cell_type": "code",
   "execution_count": 215,
   "metadata": {},
   "outputs": [
    {
     "data": {
      "text/plain": [
       "<matplotlib.axes._subplots.AxesSubplot at 0x1a2023e630>"
      ]
     },
     "execution_count": 215,
     "metadata": {},
     "output_type": "execute_result"
    },
    {
     "data": {
      "image/png": "[encoded data removed]",
      "text/plain": [
       "<matplotlib.figure.Figure at 0x1a2032c940>"
      ]
     },
     "metadata": {},
     "output_type": "display_data"
    }
   ],
   "source": [
    "# Number of food inspections by zip\n",
    "sns.countplot(x='zip',data = df, palette = 'hls')"
   ]
  },
  {
   "cell_type": "code",
   "execution_count": 216,
   "metadata": {},
   "outputs": [
    {
     "data": {
      "text/plain": [
       "<matplotlib.axes._subplots.AxesSubplot at 0x1a1f35d3c8>"
      ]
     },
     "execution_count": 216,
     "metadata": {},
     "output_type": "execute_result"
    },
    {
     "data": {
      "image/png": "[encoded data removed]",
      "text/plain": [
       "<matplotlib.figure.Figure at 0x1a1d19b978>"
      ]
     },
     "metadata": {},
     "output_type": "display_data"
    }
   ],
   "source": [
    "# Number of food inspections by inspection type\n",
    "sns.countplot(x='inspection_type',data = df,palette = 'hls')"
   ]
  },
  {
   "cell_type": "code",
   "execution_count": 218,
   "metadata": {},
   "outputs": [
    {
     "data": {
      "text/plain": [
       "Risk 1 (High)      30848\n",
       "Risk 2 (Medium)     8285\n",
       "Risk 3 (Low)        2529\n",
       "All                    7\n",
       "Name: risk, dtype: int64"
      ]
     },
     "execution_count": 218,
     "metadata": {},
     "output_type": "execute_result"
    }
   ],
   "source": [
    "df['risk'].value_counts()"
   ]
  },
  {
   "cell_type": "markdown",
   "metadata": {},
   "source": [
    "Transforming risk into a categorical feature having values 1,2,3"
   ]
  },
  {
   "cell_type": "code",
   "execution_count": 225,
   "metadata": {},
   "outputs": [
    {
     "data": {
      "text/plain": [
       "inspection_id         int64\n",
       "dba_name             object\n",
       "aka_name             object\n",
       "license_#           float64\n",
       "facility_type         int64\n",
       "risk               category\n",
       "address              object\n",
       "city                 object\n",
       "state                object\n",
       "zip                 float64\n",
       "inspection_date      object\n",
       "inspection_type      object\n",
       "results               int64\n",
       "violations           object\n",
       "latitude            float64\n",
       "longitude           float64\n",
       "location             object\n",
       "dtype: object"
      ]
     },
     "execution_count": 225,
     "metadata": {},
     "output_type": "execute_result"
    }
   ],
   "source": [
    "df[\"risk\"] = df[\"risk\"].astype('category')\n",
    "df.dtypes"
   ]
  },
  {
   "cell_type": "code",
   "execution_count": 227,
   "metadata": {},
   "outputs": [
    {
     "data": {
      "text/html": [
       "<div>\n",
       "<style>\n",
       "    .dataframe thead tr:only-child th {\n",
       "        text-align: right;\n",
       "    }\n",
       "\n",
       "    .dataframe thead th {\n",
       "        text-align: left;\n",
       "    }\n",
       "\n",
       "    .dataframe tbody tr th {\n",
       "        vertical-align: top;\n",
       "    }\n",
       "</style>\n",
       "<table border=\"1\" class=\"dataframe\">\n",
       "  <thead>\n",
       "    <tr style=\"text-align: right;\">\n",
       "      <th></th>\n",
       "      <th>inspection_id</th>\n",
       "      <th>dba_name</th>\n",
       "      <th>aka_name</th>\n",
       "      <th>license_#</th>\n",
       "      <th>facility_type</th>\n",
       "      <th>risk</th>\n",
       "      <th>address</th>\n",
       "      <th>city</th>\n",
       "      <th>state</th>\n",
       "      <th>zip</th>\n",
       "      <th>inspection_date</th>\n",
       "      <th>inspection_type</th>\n",
       "      <th>results</th>\n",
       "      <th>violations</th>\n",
       "      <th>latitude</th>\n",
       "      <th>longitude</th>\n",
       "      <th>location</th>\n",
       "      <th>risk_cat</th>\n",
       "    </tr>\n",
       "  </thead>\n",
       "  <tbody>\n",
       "    <tr>\n",
       "      <th>0</th>\n",
       "      <td>1583759</td>\n",
       "      <td>TRELLIS WINE BAR</td>\n",
       "      <td>TRELLIS</td>\n",
       "      <td>39120.0</td>\n",
       "      <td>1</td>\n",
       "      <td>Risk 1 (High)</td>\n",
       "      <td>2426 N RACINE AVE</td>\n",
       "      <td>CHICAGO</td>\n",
       "      <td>IL</td>\n",
       "      <td>60614.0</td>\n",
       "      <td>11/02/2015</td>\n",
       "      <td>Canvass</td>\n",
       "      <td>0</td>\n",
       "      <td>None</td>\n",
       "      <td>41.926145</td>\n",
       "      <td>-87.658629</td>\n",
       "      <td>(41.92614517843091, -87.65862914275179)</td>\n",
       "      <td>1</td>\n",
       "    </tr>\n",
       "    <tr>\n",
       "      <th>1</th>\n",
       "      <td>1583758</td>\n",
       "      <td>LINKIN HOUSE</td>\n",
       "      <td>LINKIN HOUSE</td>\n",
       "      <td>1622089.0</td>\n",
       "      <td>1</td>\n",
       "      <td>Risk 1 (High)</td>\n",
       "      <td>2142 N CLYBOURN AVE</td>\n",
       "      <td>CHICAGO</td>\n",
       "      <td>IL</td>\n",
       "      <td>60614.0</td>\n",
       "      <td>11/02/2015</td>\n",
       "      <td>Canvass</td>\n",
       "      <td>0</td>\n",
       "      <td>None</td>\n",
       "      <td>41.920080</td>\n",
       "      <td>-87.662480</td>\n",
       "      <td>(41.920080499210265, -87.66248016891137)</td>\n",
       "      <td>1</td>\n",
       "    </tr>\n",
       "    <tr>\n",
       "      <th>2</th>\n",
       "      <td>1448062</td>\n",
       "      <td>NORDSTROM ESPRESSO BAR</td>\n",
       "      <td>NORDSTROM ESPRESSO BAR</td>\n",
       "      <td>1245107.0</td>\n",
       "      <td>1</td>\n",
       "      <td>Risk 2 (Medium)</td>\n",
       "      <td>55 E GRAND AVE</td>\n",
       "      <td>CHICAGO</td>\n",
       "      <td>IL</td>\n",
       "      <td>60611.0</td>\n",
       "      <td>11/03/2015</td>\n",
       "      <td>Canvass</td>\n",
       "      <td>0</td>\n",
       "      <td>33. FOOD AND NON-FOOD CONTACT EQUIPMENT UTENSI...</td>\n",
       "      <td>41.891591</td>\n",
       "      <td>-87.625867</td>\n",
       "      <td>(41.891590741083505, -87.62586713724458)</td>\n",
       "      <td>2</td>\n",
       "    </tr>\n",
       "    <tr>\n",
       "      <th>3</th>\n",
       "      <td>1465247</td>\n",
       "      <td>BP</td>\n",
       "      <td>BP</td>\n",
       "      <td>2417859.0</td>\n",
       "      <td>0</td>\n",
       "      <td>Risk 3 (Low)</td>\n",
       "      <td>5133-5153 W NORTH AVE</td>\n",
       "      <td>CHICAGO</td>\n",
       "      <td>IL</td>\n",
       "      <td>60639.0</td>\n",
       "      <td>11/03/2015</td>\n",
       "      <td>License</td>\n",
       "      <td>1</td>\n",
       "      <td>38. VENTILATION: ROOMS AND EQUIPMENT VENTED AS...</td>\n",
       "      <td>41.909405</td>\n",
       "      <td>-87.754764</td>\n",
       "      <td>(41.909404662965976, -87.75476387362707)</td>\n",
       "      <td>3</td>\n",
       "    </tr>\n",
       "    <tr>\n",
       "      <th>4</th>\n",
       "      <td>1465243</td>\n",
       "      <td>STARBUCKS COFFEE #7948</td>\n",
       "      <td>STARBUCKS COFFEE</td>\n",
       "      <td>2385999.0</td>\n",
       "      <td>1</td>\n",
       "      <td>Risk 2 (Medium)</td>\n",
       "      <td>2730 N NARRAGANSETT AVE</td>\n",
       "      <td>CHICAGO</td>\n",
       "      <td>IL</td>\n",
       "      <td>60639.0</td>\n",
       "      <td>11/03/2015</td>\n",
       "      <td>License</td>\n",
       "      <td>1</td>\n",
       "      <td>None</td>\n",
       "      <td>41.930111</td>\n",
       "      <td>-87.785824</td>\n",
       "      <td>(41.93011062600186, -87.78582350333859)</td>\n",
       "      <td>2</td>\n",
       "    </tr>\n",
       "  </tbody>\n",
       "</table>\n",
       "</div>"
      ],
      "text/plain": [
       "   inspection_id                dba_name                aka_name  license_#  \\\n",
       "0        1583759        TRELLIS WINE BAR                 TRELLIS    39120.0   \n",
       "1        1583758            LINKIN HOUSE            LINKIN HOUSE  1622089.0   \n",
       "2        1448062  NORDSTROM ESPRESSO BAR  NORDSTROM ESPRESSO BAR  1245107.0   \n",
       "3        1465247                      BP                      BP  2417859.0   \n",
       "4        1465243  STARBUCKS COFFEE #7948        STARBUCKS COFFEE  2385999.0   \n",
       "\n",
       "   facility_type             risk                   address     city state  \\\n",
       "0              1    Risk 1 (High)        2426 N RACINE AVE   CHICAGO    IL   \n",
       "1              1    Risk 1 (High)      2142 N CLYBOURN AVE   CHICAGO    IL   \n",
       "2              1  Risk 2 (Medium)           55 E GRAND AVE   CHICAGO    IL   \n",
       "3              0     Risk 3 (Low)    5133-5153 W NORTH AVE   CHICAGO    IL   \n",
       "4              1  Risk 2 (Medium)  2730 N NARRAGANSETT AVE   CHICAGO    IL   \n",
       "\n",
       "       zip inspection_date inspection_type  results  \\\n",
       "0  60614.0      11/02/2015         Canvass        0   \n",
       "1  60614.0      11/02/2015         Canvass        0   \n",
       "2  60611.0      11/03/2015         Canvass        0   \n",
       "3  60639.0      11/03/2015         License        1   \n",
       "4  60639.0      11/03/2015         License        1   \n",
       "\n",
       "                                          violations   latitude  longitude  \\\n",
       "0                                               None  41.926145 -87.658629   \n",
       "1                                               None  41.920080 -87.662480   \n",
       "2  33. FOOD AND NON-FOOD CONTACT EQUIPMENT UTENSI...  41.891591 -87.625867   \n",
       "3  38. VENTILATION: ROOMS AND EQUIPMENT VENTED AS...  41.909405 -87.754764   \n",
       "4                                               None  41.930111 -87.785824   \n",
       "\n",
       "                                   location  risk_cat  \n",
       "0   (41.92614517843091, -87.65862914275179)         1  \n",
       "1  (41.920080499210265, -87.66248016891137)         1  \n",
       "2  (41.891590741083505, -87.62586713724458)         2  \n",
       "3  (41.909404662965976, -87.75476387362707)         3  \n",
       "4   (41.93011062600186, -87.78582350333859)         2  "
      ]
     },
     "execution_count": 227,
     "metadata": {},
     "output_type": "execute_result"
    }
   ],
   "source": [
    "df[\"risk_cat\"] = df[\"risk\"].cat.codes\n",
    "df.head()"
   ]
  },
  {
   "cell_type": "code",
   "execution_count": 228,
   "metadata": {
    "collapsed": true
   },
   "outputs": [],
   "source": [
    "df['risk']= df['risk_cat']"
   ]
  },
  {
   "cell_type": "code",
   "execution_count": 229,
   "metadata": {},
   "outputs": [
    {
     "data": {
      "text/html": [
       "<div>\n",
       "<style>\n",
       "    .dataframe thead tr:only-child th {\n",
       "        text-align: right;\n",
       "    }\n",
       "\n",
       "    .dataframe thead th {\n",
       "        text-align: left;\n",
       "    }\n",
       "\n",
       "    .dataframe tbody tr th {\n",
       "        vertical-align: top;\n",
       "    }\n",
       "</style>\n",
       "<table border=\"1\" class=\"dataframe\">\n",
       "  <thead>\n",
       "    <tr style=\"text-align: right;\">\n",
       "      <th></th>\n",
       "      <th>inspection_id</th>\n",
       "      <th>dba_name</th>\n",
       "      <th>aka_name</th>\n",
       "      <th>license_#</th>\n",
       "      <th>facility_type</th>\n",
       "      <th>risk</th>\n",
       "      <th>address</th>\n",
       "      <th>city</th>\n",
       "      <th>state</th>\n",
       "      <th>zip</th>\n",
       "      <th>inspection_date</th>\n",
       "      <th>inspection_type</th>\n",
       "      <th>results</th>\n",
       "      <th>violations</th>\n",
       "      <th>latitude</th>\n",
       "      <th>longitude</th>\n",
       "      <th>location</th>\n",
       "      <th>risk_cat</th>\n",
       "    </tr>\n",
       "  </thead>\n",
       "  <tbody>\n",
       "    <tr>\n",
       "      <th>0</th>\n",
       "      <td>1583759</td>\n",
       "      <td>TRELLIS WINE BAR</td>\n",
       "      <td>TRELLIS</td>\n",
       "      <td>39120.0</td>\n",
       "      <td>1</td>\n",
       "      <td>1</td>\n",
       "      <td>2426 N RACINE AVE</td>\n",
       "      <td>CHICAGO</td>\n",
       "      <td>IL</td>\n",
       "      <td>60614.0</td>\n",
       "      <td>11/02/2015</td>\n",
       "      <td>Canvass</td>\n",
       "      <td>0</td>\n",
       "      <td>None</td>\n",
       "      <td>41.926145</td>\n",
       "      <td>-87.658629</td>\n",
       "      <td>(41.92614517843091, -87.65862914275179)</td>\n",
       "      <td>1</td>\n",
       "    </tr>\n",
       "    <tr>\n",
       "      <th>1</th>\n",
       "      <td>1583758</td>\n",
       "      <td>LINKIN HOUSE</td>\n",
       "      <td>LINKIN HOUSE</td>\n",
       "      <td>1622089.0</td>\n",
       "      <td>1</td>\n",
       "      <td>1</td>\n",
       "      <td>2142 N CLYBOURN AVE</td>\n",
       "      <td>CHICAGO</td>\n",
       "      <td>IL</td>\n",
       "      <td>60614.0</td>\n",
       "      <td>11/02/2015</td>\n",
       "      <td>Canvass</td>\n",
       "      <td>0</td>\n",
       "      <td>None</td>\n",
       "      <td>41.920080</td>\n",
       "      <td>-87.662480</td>\n",
       "      <td>(41.920080499210265, -87.66248016891137)</td>\n",
       "      <td>1</td>\n",
       "    </tr>\n",
       "    <tr>\n",
       "      <th>2</th>\n",
       "      <td>1448062</td>\n",
       "      <td>NORDSTROM ESPRESSO BAR</td>\n",
       "      <td>NORDSTROM ESPRESSO BAR</td>\n",
       "      <td>1245107.0</td>\n",
       "      <td>1</td>\n",
       "      <td>2</td>\n",
       "      <td>55 E GRAND AVE</td>\n",
       "      <td>CHICAGO</td>\n",
       "      <td>IL</td>\n",
       "      <td>60611.0</td>\n",
       "      <td>11/03/2015</td>\n",
       "      <td>Canvass</td>\n",
       "      <td>0</td>\n",
       "      <td>33. FOOD AND NON-FOOD CONTACT EQUIPMENT UTENSI...</td>\n",
       "      <td>41.891591</td>\n",
       "      <td>-87.625867</td>\n",
       "      <td>(41.891590741083505, -87.62586713724458)</td>\n",
       "      <td>2</td>\n",
       "    </tr>\n",
       "    <tr>\n",
       "      <th>3</th>\n",
       "      <td>1465247</td>\n",
       "      <td>BP</td>\n",
       "      <td>BP</td>\n",
       "      <td>2417859.0</td>\n",
       "      <td>0</td>\n",
       "      <td>3</td>\n",
       "      <td>5133-5153 W NORTH AVE</td>\n",
       "      <td>CHICAGO</td>\n",
       "      <td>IL</td>\n",
       "      <td>60639.0</td>\n",
       "      <td>11/03/2015</td>\n",
       "      <td>License</td>\n",
       "      <td>1</td>\n",
       "      <td>38. VENTILATION: ROOMS AND EQUIPMENT VENTED AS...</td>\n",
       "      <td>41.909405</td>\n",
       "      <td>-87.754764</td>\n",
       "      <td>(41.909404662965976, -87.75476387362707)</td>\n",
       "      <td>3</td>\n",
       "    </tr>\n",
       "    <tr>\n",
       "      <th>4</th>\n",
       "      <td>1465243</td>\n",
       "      <td>STARBUCKS COFFEE #7948</td>\n",
       "      <td>STARBUCKS COFFEE</td>\n",
       "      <td>2385999.0</td>\n",
       "      <td>1</td>\n",
       "      <td>2</td>\n",
       "      <td>2730 N NARRAGANSETT AVE</td>\n",
       "      <td>CHICAGO</td>\n",
       "      <td>IL</td>\n",
       "      <td>60639.0</td>\n",
       "      <td>11/03/2015</td>\n",
       "      <td>License</td>\n",
       "      <td>1</td>\n",
       "      <td>None</td>\n",
       "      <td>41.930111</td>\n",
       "      <td>-87.785824</td>\n",
       "      <td>(41.93011062600186, -87.78582350333859)</td>\n",
       "      <td>2</td>\n",
       "    </tr>\n",
       "  </tbody>\n",
       "</table>\n",
       "</div>"
      ],
      "text/plain": [
       "   inspection_id                dba_name                aka_name  license_#  \\\n",
       "0        1583759        TRELLIS WINE BAR                 TRELLIS    39120.0   \n",
       "1        1583758            LINKIN HOUSE            LINKIN HOUSE  1622089.0   \n",
       "2        1448062  NORDSTROM ESPRESSO BAR  NORDSTROM ESPRESSO BAR  1245107.0   \n",
       "3        1465247                      BP                      BP  2417859.0   \n",
       "4        1465243  STARBUCKS COFFEE #7948        STARBUCKS COFFEE  2385999.0   \n",
       "\n",
       "   facility_type  risk                   address     city state      zip  \\\n",
       "0              1     1        2426 N RACINE AVE   CHICAGO    IL  60614.0   \n",
       "1              1     1      2142 N CLYBOURN AVE   CHICAGO    IL  60614.0   \n",
       "2              1     2           55 E GRAND AVE   CHICAGO    IL  60611.0   \n",
       "3              0     3    5133-5153 W NORTH AVE   CHICAGO    IL  60639.0   \n",
       "4              1     2  2730 N NARRAGANSETT AVE   CHICAGO    IL  60639.0   \n",
       "\n",
       "  inspection_date inspection_type  results  \\\n",
       "0      11/02/2015         Canvass        0   \n",
       "1      11/02/2015         Canvass        0   \n",
       "2      11/03/2015         Canvass        0   \n",
       "3      11/03/2015         License        1   \n",
       "4      11/03/2015         License        1   \n",
       "\n",
       "                                          violations   latitude  longitude  \\\n",
       "0                                               None  41.926145 -87.658629   \n",
       "1                                               None  41.920080 -87.662480   \n",
       "2  33. FOOD AND NON-FOOD CONTACT EQUIPMENT UTENSI...  41.891591 -87.625867   \n",
       "3  38. VENTILATION: ROOMS AND EQUIPMENT VENTED AS...  41.909405 -87.754764   \n",
       "4                                               None  41.930111 -87.785824   \n",
       "\n",
       "                                   location  risk_cat  \n",
       "0   (41.92614517843091, -87.65862914275179)         1  \n",
       "1  (41.920080499210265, -87.66248016891137)         1  \n",
       "2  (41.891590741083505, -87.62586713724458)         2  \n",
       "3  (41.909404662965976, -87.75476387362707)         3  \n",
       "4   (41.93011062600186, -87.78582350333859)         2  "
      ]
     },
     "execution_count": 229,
     "metadata": {},
     "output_type": "execute_result"
    }
   ],
   "source": [
    "df.head()"
   ]
  },
  {
   "cell_type": "code",
   "execution_count": 231,
   "metadata": {},
   "outputs": [
    {
     "data": {
      "text/plain": [
       "<matplotlib.axes._subplots.AxesSubplot at 0x1a1a9fddd8>"
      ]
     },
     "execution_count": 231,
     "metadata": {},
     "output_type": "execute_result"
    },
    {
     "data": {
      "image/png": "[encoded data removed]",
      "text/plain": [
       "<matplotlib.figure.Figure at 0x1a1a905f98>"
      ]
     },
     "metadata": {},
     "output_type": "display_data"
    }
   ],
   "source": [
    "# Number of food inspections by risk\n",
    "sns.countplot(x='risk',data = df, palette ='hls')"
   ]
  },
  {
   "cell_type": "code",
   "execution_count": 232,
   "metadata": {},
   "outputs": [
    {
     "data": {
      "text/plain": [
       "<matplotlib.axes._subplots.AxesSubplot at 0x1a1aa1e630>"
      ]
     },
     "execution_count": 232,
     "metadata": {},
     "output_type": "execute_result"
    },
    {
     "data": {
      "image/png": "[encoded data removed]",
      "text/plain": [
       "<matplotlib.figure.Figure at 0x1a1e59f7b8>"
      ]
     },
     "metadata": {},
     "output_type": "display_data"
    }
   ],
   "source": [
    "sns.heatmap(df.corr())"
   ]
  },
  {
   "cell_type": "code",
   "execution_count": null,
   "metadata": {
    "collapsed": true
   },
   "outputs": [],
   "source": []
  }
 ],
 "metadata": {
  "kernelspec": {
   "display_name": "Python 3",
   "language": "python",
   "name": "python3"
  },
  "language_info": {
   "codemirror_mode": {
    "name": "ipython",
    "version": 3
   },
   "file_extension": ".py",
   "mimetype": "text/x-python",
   "name": "python",
   "nbconvert_exporter": "python",
   "pygments_lexer": "ipython3",
   "version": "3.6.1"
  }
 },
 "nbformat": 4,
 "nbformat_minor": 2
}
