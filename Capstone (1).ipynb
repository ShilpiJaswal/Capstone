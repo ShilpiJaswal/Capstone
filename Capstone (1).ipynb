{
 "cells": [
  {
   "cell_type": "markdown",
   "metadata": {},
   "source": [
    "# Restaurant food inspection"
   ]
  },
  {
   "cell_type": "markdown",
   "metadata": {},
   "source": [
    "This project looks into the food inspections dataset for the various food facilities in Chicago, and would predict whether the food facility passed or failed the inspection taking into account the remarks from the violations column. This project will extensively use Natural Language Processing to achieve the said result."
   ]
  },
  {
   "cell_type": "markdown",
   "metadata": {},
   "source": [
    "## Google’s self-driving cars and robots get a lot of press, but the company’s real future is in machine learning, the technology that enables computers to get smarter and more personal.\n",
    "\n",
    " – Eric Schmidt (Google Chairman)"
   ]
  },
  {
   "cell_type": "markdown",
   "metadata": {},
   "source": [
    "## Imports"
   ]
  },
  {
   "cell_type": "code",
   "execution_count": 415,
   "metadata": {
    "collapsed": true
   },
   "outputs": [],
   "source": [
    "import pandas as pd\n",
    "import numpy as np\n",
    "import matplotlib.pyplot as plt\n",
    "%matplotlib inline\n",
    "from sklearn.feature_extraction.text import CountVectorizer, \\\n",
    "HashingVectorizer, TfidfVectorizer\n",
    "import string\n",
    "from nltk.corpus import stopwords\n",
    "from nltk.stem import PorterStemmer\n",
    "from sklearn.model_selection import train_test_split,KFold, cross_val_score\n",
    "from sklearn.linear_model import LogisticRegression\n",
    "from sklearn.ensemble import RandomForestClassifier\n",
    "from sklearn.svm import SVC, NuSVC, LinearSVC\n",
    "from sklearn.metrics import classification_report, confusion_matrix, accuracy_score\n",
    "from sklearn.metrics import roc_auc_score\n",
    "from sklearn.metrics import roc_curve, auc\n",
    "import seaborn as sns"
   ]
  },
  {
   "cell_type": "markdown",
   "metadata": {},
   "source": [
    "The first thing to do is to read in the dataset using the Pandas' read_csv() function and naming the dataframe as 'df'."
   ]
  },
  {
   "cell_type": "code",
   "execution_count": 416,
   "metadata": {
    "collapsed": true
   },
   "outputs": [],
   "source": [
    "#Loading the file\n",
    "df = pd.read_csv('FoodInspections.csv')\n"
   ]
  },
  {
   "cell_type": "code",
   "execution_count": 417,
   "metadata": {
    "scrolled": false
   },
   "outputs": [
    {
     "data": {
      "text/html": [
       "<div>\n",
       "<style>\n",
       "    .dataframe thead tr:only-child th {\n",
       "        text-align: right;\n",
       "    }\n",
       "\n",
       "    .dataframe thead th {\n",
       "        text-align: left;\n",
       "    }\n",
       "\n",
       "    .dataframe tbody tr th {\n",
       "        vertical-align: top;\n",
       "    }\n",
       "</style>\n",
       "<table border=\"1\" class=\"dataframe\">\n",
       "  <thead>\n",
       "    <tr style=\"text-align: right;\">\n",
       "      <th></th>\n",
       "      <th>Inspection ID</th>\n",
       "      <th>DBA Name</th>\n",
       "      <th>AKA Name</th>\n",
       "      <th>License #</th>\n",
       "      <th>Facility Type</th>\n",
       "      <th>Risk</th>\n",
       "      <th>Address</th>\n",
       "      <th>City</th>\n",
       "      <th>State</th>\n",
       "      <th>Zip</th>\n",
       "      <th>Inspection Date</th>\n",
       "      <th>Inspection Type</th>\n",
       "      <th>Results</th>\n",
       "      <th>Violations</th>\n",
       "      <th>Latitude</th>\n",
       "      <th>Longitude</th>\n",
       "      <th>Location</th>\n",
       "    </tr>\n",
       "  </thead>\n",
       "  <tbody>\n",
       "    <tr>\n",
       "      <th>0</th>\n",
       "      <td>1970725</td>\n",
       "      <td>ELYSIA ROOT CAKES</td>\n",
       "      <td>ELYSIA ROOT CAKES</td>\n",
       "      <td>2299030.0</td>\n",
       "      <td>Bakery</td>\n",
       "      <td>Risk 2 (Medium)</td>\n",
       "      <td>1939 W FULTON ST</td>\n",
       "      <td>CHICAGO</td>\n",
       "      <td>IL</td>\n",
       "      <td>60612.0</td>\n",
       "      <td>11/02/2016</td>\n",
       "      <td>Canvass</td>\n",
       "      <td>Pass</td>\n",
       "      <td>32. FOOD AND NON-FOOD CONTACT SURFACES PROPERL...</td>\n",
       "      <td>41.886675</td>\n",
       "      <td>-87.675908</td>\n",
       "      <td>(41.886674822367304, -87.67590783571049)</td>\n",
       "    </tr>\n",
       "    <tr>\n",
       "      <th>1</th>\n",
       "      <td>1970723</td>\n",
       "      <td>TODDLER TOWN DAY CARE TOO</td>\n",
       "      <td>TODDLER TOWN DAY CARE TOO</td>\n",
       "      <td>2215881.0</td>\n",
       "      <td>Children's Services Facility</td>\n",
       "      <td>Risk 1 (High)</td>\n",
       "      <td>5934-5936 W DIVERSEY AVE</td>\n",
       "      <td>CHICAGO</td>\n",
       "      <td>IL</td>\n",
       "      <td>60639.0</td>\n",
       "      <td>11/02/2016</td>\n",
       "      <td>Canvass</td>\n",
       "      <td>Pass</td>\n",
       "      <td>35. WALLS, CEILINGS, ATTACHED EQUIPMENT CONSTR...</td>\n",
       "      <td>41.931263</td>\n",
       "      <td>-87.774969</td>\n",
       "      <td>(41.9312625519017, -87.77496927376998)</td>\n",
       "    </tr>\n",
       "    <tr>\n",
       "      <th>2</th>\n",
       "      <td>1970704</td>\n",
       "      <td>CHICAGO CREAMPUFFS AND CAKES LLC.</td>\n",
       "      <td>CHICAGO CREAMPUFFS AND CAKES LLC.</td>\n",
       "      <td>2293718.0</td>\n",
       "      <td>Bakery</td>\n",
       "      <td>Risk 2 (Medium)</td>\n",
       "      <td>2734 W 111TH ST</td>\n",
       "      <td>CHICAGO</td>\n",
       "      <td>IL</td>\n",
       "      <td>60655.0</td>\n",
       "      <td>11/02/2016</td>\n",
       "      <td>Canvass</td>\n",
       "      <td>Out of Business</td>\n",
       "      <td>NaN</td>\n",
       "      <td>41.691808</td>\n",
       "      <td>-87.689885</td>\n",
       "      <td>(41.6918083543123, -87.6898852579178)</td>\n",
       "    </tr>\n",
       "    <tr>\n",
       "      <th>3</th>\n",
       "      <td>1955335</td>\n",
       "      <td>CHIPOTLE MEXICAN GRILL#2768</td>\n",
       "      <td>CHIPOTLE</td>\n",
       "      <td>2476569.0</td>\n",
       "      <td>Restaurant</td>\n",
       "      <td>Risk 1 (High)</td>\n",
       "      <td>806 W 63RD ST</td>\n",
       "      <td>CHICAGO</td>\n",
       "      <td>IL</td>\n",
       "      <td>60621.0</td>\n",
       "      <td>11/02/2016</td>\n",
       "      <td>License Re-Inspection</td>\n",
       "      <td>Pass</td>\n",
       "      <td>NaN</td>\n",
       "      <td>41.779856</td>\n",
       "      <td>-87.645142</td>\n",
       "      <td>(41.77985559084816, -87.64514243359771)</td>\n",
       "    </tr>\n",
       "    <tr>\n",
       "      <th>4</th>\n",
       "      <td>1970749</td>\n",
       "      <td>79TH KINGSTONE FOOD MART</td>\n",
       "      <td>79TH KINGSTONE FOOD MART</td>\n",
       "      <td>1245200.0</td>\n",
       "      <td>Grocery Store</td>\n",
       "      <td>Risk 2 (Medium)</td>\n",
       "      <td>2523 E 79TH ST</td>\n",
       "      <td>CHICAGO</td>\n",
       "      <td>IL</td>\n",
       "      <td>60649.0</td>\n",
       "      <td>11/02/2016</td>\n",
       "      <td>Short Form Complaint</td>\n",
       "      <td>Pass</td>\n",
       "      <td>38. VENTILATION: ROOMS AND EQUIPMENT VENTED AS...</td>\n",
       "      <td>41.751666</td>\n",
       "      <td>-87.562823</td>\n",
       "      <td>(41.75166609505252, -87.56282258645444)</td>\n",
       "    </tr>\n",
       "  </tbody>\n",
       "</table>\n",
       "</div>"
      ],
      "text/plain": [
       "   Inspection ID                           DBA Name  \\\n",
       "0        1970725                  ELYSIA ROOT CAKES   \n",
       "1        1970723          TODDLER TOWN DAY CARE TOO   \n",
       "2        1970704  CHICAGO CREAMPUFFS AND CAKES LLC.   \n",
       "3        1955335        CHIPOTLE MEXICAN GRILL#2768   \n",
       "4        1970749           79TH KINGSTONE FOOD MART   \n",
       "\n",
       "                            AKA Name  License #                 Facility Type  \\\n",
       "0                  ELYSIA ROOT CAKES  2299030.0                        Bakery   \n",
       "1          TODDLER TOWN DAY CARE TOO  2215881.0  Children's Services Facility   \n",
       "2  CHICAGO CREAMPUFFS AND CAKES LLC.  2293718.0                        Bakery   \n",
       "3                           CHIPOTLE  2476569.0                    Restaurant   \n",
       "4           79TH KINGSTONE FOOD MART  1245200.0                 Grocery Store   \n",
       "\n",
       "              Risk                    Address     City State      Zip  \\\n",
       "0  Risk 2 (Medium)          1939 W FULTON ST   CHICAGO    IL  60612.0   \n",
       "1    Risk 1 (High)  5934-5936 W DIVERSEY AVE   CHICAGO    IL  60639.0   \n",
       "2  Risk 2 (Medium)           2734 W 111TH ST   CHICAGO    IL  60655.0   \n",
       "3    Risk 1 (High)             806 W 63RD ST   CHICAGO    IL  60621.0   \n",
       "4  Risk 2 (Medium)            2523 E 79TH ST   CHICAGO    IL  60649.0   \n",
       "\n",
       "  Inspection Date        Inspection Type          Results  \\\n",
       "0      11/02/2016                Canvass             Pass   \n",
       "1      11/02/2016                Canvass             Pass   \n",
       "2      11/02/2016                Canvass  Out of Business   \n",
       "3      11/02/2016  License Re-Inspection             Pass   \n",
       "4      11/02/2016   Short Form Complaint             Pass   \n",
       "\n",
       "                                          Violations   Latitude  Longitude  \\\n",
       "0  32. FOOD AND NON-FOOD CONTACT SURFACES PROPERL...  41.886675 -87.675908   \n",
       "1  35. WALLS, CEILINGS, ATTACHED EQUIPMENT CONSTR...  41.931263 -87.774969   \n",
       "2                                                NaN  41.691808 -87.689885   \n",
       "3                                                NaN  41.779856 -87.645142   \n",
       "4  38. VENTILATION: ROOMS AND EQUIPMENT VENTED AS...  41.751666 -87.562823   \n",
       "\n",
       "                                   Location  \n",
       "0  (41.886674822367304, -87.67590783571049)  \n",
       "1    (41.9312625519017, -87.77496927376998)  \n",
       "2     (41.6918083543123, -87.6898852579178)  \n",
       "3   (41.77985559084816, -87.64514243359771)  \n",
       "4   (41.75166609505252, -87.56282258645444)  "
      ]
     },
     "execution_count": 417,
     "metadata": {},
     "output_type": "execute_result"
    }
   ],
   "source": [
    "#Displaying the first 5 rows of the dataset\n",
    "df.head()"
   ]
  },
  {
   "cell_type": "markdown",
   "metadata": {},
   "source": [
    "### Features Description"
   ]
  },
  {
   "cell_type": "markdown",
   "metadata": {},
   "source": [
    "Variables Description:\n",
    "\n",
    "Inspection Id: Inspection Id\n",
    "\n",
    "DBA Name: Name of the facility\n",
    "\n",
    "AKA Name: Alias name\n",
    "\n",
    "License#: License number of the facility\n",
    "\n",
    "Facility Type: Type of the facility\n",
    "\n",
    "Risk: Risk 1,2 or 3\n",
    "\n",
    "Address: Address of the facility\n",
    "\n",
    "City: City\n",
    "\n",
    "State: State\n",
    "\n",
    "Zip: Zip code\n",
    "\n",
    "Inspection Date: Date of inspection\n",
    "\n",
    "Inspection Type: Type of inspection \n",
    "\n",
    "Results: Result of the inspection , Pass,Fail,Pass with conditions etc\n",
    "\n",
    "Violations: Violations remarks\n",
    "\n",
    "Latitude: Latitude\n",
    "\n",
    "Longitude: Longitude\n",
    "\n",
    "Location: Location"
   ]
  },
  {
   "cell_type": "code",
   "execution_count": 428,
   "metadata": {},
   "outputs": [
    {
     "name": "stdout",
     "output_type": "stream",
     "text": [
      "<class 'pandas.core.frame.DataFrame'>\n",
      "Int64Index: 20230 entries, 0 to 20633\n",
      "Data columns (total 17 columns):\n",
      "inspection_id      20230 non-null int64\n",
      "dba_name           20230 non-null object\n",
      "aka_name           20230 non-null object\n",
      "license_#          20230 non-null float64\n",
      "facility_type      20230 non-null object\n",
      "risk               20230 non-null object\n",
      "address            20230 non-null object\n",
      "city               20230 non-null object\n",
      "state              20230 non-null object\n",
      "zip                20230 non-null float64\n",
      "inspection_date    20230 non-null object\n",
      "inspection_type    20230 non-null object\n",
      "results            20230 non-null object\n",
      "violations         20230 non-null object\n",
      "latitude           20230 non-null float64\n",
      "longitude          20230 non-null float64\n",
      "location           20230 non-null object\n",
      "dtypes: float64(4), int64(1), object(12)\n",
      "memory usage: 2.8+ MB\n"
     ]
    }
   ],
   "source": [
    "# Displays the columns and the type of columns\n",
    "df.info()"
   ]
  },
  {
   "cell_type": "code",
   "execution_count": 429,
   "metadata": {
    "collapsed": true
   },
   "outputs": [],
   "source": [
    "# Replacing the spaces of columns names with an underscore and\n",
    "df.columns =[x.lower().replace(' ','_') for x in df.columns]"
   ]
  },
  {
   "cell_type": "code",
   "execution_count": 430,
   "metadata": {},
   "outputs": [
    {
     "data": {
      "text/plain": [
       "Index(['inspection_id', 'dba_name', 'aka_name', 'license_#', 'facility_type',\n",
       "       'risk', 'address', 'city', 'state', 'zip', 'inspection_date',\n",
       "       'inspection_type', 'results', 'violations', 'latitude', 'longitude',\n",
       "       'location'],\n",
       "      dtype='object')"
      ]
     },
     "execution_count": 430,
     "metadata": {},
     "output_type": "execute_result"
    }
   ],
   "source": [
    "df.columns"
   ]
  },
  {
   "cell_type": "code",
   "execution_count": 431,
   "metadata": {},
   "outputs": [
    {
     "data": {
      "text/plain": [
       "(20230, 17)"
      ]
     },
     "execution_count": 431,
     "metadata": {},
     "output_type": "execute_result"
    }
   ],
   "source": [
    "#Checking for the number of rows and columns in the dataset\n",
    "df.shape"
   ]
  },
  {
   "cell_type": "markdown",
   "metadata": {},
   "source": [
    "Check for the null values"
   ]
  },
  {
   "cell_type": "code",
   "execution_count": 432,
   "metadata": {
    "scrolled": true
   },
   "outputs": [
    {
     "data": {
      "text/plain": [
       "inspection_id      0\n",
       "dba_name           0\n",
       "aka_name           0\n",
       "license_#          0\n",
       "facility_type      0\n",
       "risk               0\n",
       "address            0\n",
       "city               0\n",
       "state              0\n",
       "zip                0\n",
       "inspection_date    0\n",
       "inspection_type    0\n",
       "results            0\n",
       "violations         0\n",
       "latitude           0\n",
       "longitude          0\n",
       "location           0\n",
       "dtype: int64"
      ]
     },
     "execution_count": 432,
     "metadata": {},
     "output_type": "execute_result"
    }
   ],
   "source": [
    "df.isnull().sum()"
   ]
  },
  {
   "cell_type": "code",
   "execution_count": 433,
   "metadata": {
    "collapsed": true
   },
   "outputs": [],
   "source": [
    "df['violations'].fillna('None',inplace = True)"
   ]
  },
  {
   "cell_type": "code",
   "execution_count": 434,
   "metadata": {},
   "outputs": [
    {
     "data": {
      "text/plain": [
       "(20230, 17)"
      ]
     },
     "execution_count": 434,
     "metadata": {},
     "output_type": "execute_result"
    }
   ],
   "source": [
    "df.shape"
   ]
  },
  {
   "cell_type": "code",
   "execution_count": 435,
   "metadata": {
    "collapsed": true
   },
   "outputs": [],
   "source": [
    "df.dropna(axis=0,inplace=True)"
   ]
  },
  {
   "cell_type": "code",
   "execution_count": 436,
   "metadata": {},
   "outputs": [
    {
     "data": {
      "text/plain": [
       "(20230, 17)"
      ]
     },
     "execution_count": 436,
     "metadata": {},
     "output_type": "execute_result"
    }
   ],
   "source": [
    "df.shape"
   ]
  },
  {
   "cell_type": "code",
   "execution_count": 437,
   "metadata": {
    "scrolled": true
   },
   "outputs": [
    {
     "data": {
      "text/plain": [
       "inspection_id      0\n",
       "dba_name           0\n",
       "aka_name           0\n",
       "license_#          0\n",
       "facility_type      0\n",
       "risk               0\n",
       "address            0\n",
       "city               0\n",
       "state              0\n",
       "zip                0\n",
       "inspection_date    0\n",
       "inspection_type    0\n",
       "results            0\n",
       "violations         0\n",
       "latitude           0\n",
       "longitude          0\n",
       "location           0\n",
       "dtype: int64"
      ]
     },
     "execution_count": 437,
     "metadata": {},
     "output_type": "execute_result"
    }
   ],
   "source": [
    "df.isnull().sum()"
   ]
  },
  {
   "cell_type": "markdown",
   "metadata": {},
   "source": [
    "Converting the Results column to binary values: pass and fail"
   ]
  },
  {
   "cell_type": "code",
   "execution_count": 438,
   "metadata": {},
   "outputs": [
    {
     "data": {
      "text/plain": [
       "Pass                    11739\n",
       "Fail                     3916\n",
       "Pass w/ Conditions       1997\n",
       "Out of Business          1163\n",
       "No Entry                 1042\n",
       "Not Ready                 371\n",
       "Business Not Located        2\n",
       "Name: results, dtype: int64"
      ]
     },
     "execution_count": 438,
     "metadata": {},
     "output_type": "execute_result"
    }
   ],
   "source": [
    "df['results'].value_counts()"
   ]
  },
  {
   "cell_type": "code",
   "execution_count": 439,
   "metadata": {
    "collapsed": true
   },
   "outputs": [],
   "source": [
    "df['results'] = df['results'].map(lambda x: 1 if x == 'Pass' or x == 'Pass w/ Conditions' else 0)"
   ]
  },
  {
   "cell_type": "code",
   "execution_count": 440,
   "metadata": {},
   "outputs": [
    {
     "data": {
      "text/plain": [
       "1    13736\n",
       "0     6494\n",
       "Name: results, dtype: int64"
      ]
     },
     "execution_count": 440,
     "metadata": {},
     "output_type": "execute_result"
    }
   ],
   "source": [
    "df['results'].value_counts()"
   ]
  },
  {
   "cell_type": "code",
   "execution_count": 441,
   "metadata": {},
   "outputs": [
    {
     "data": {
      "text/plain": [
       "<matplotlib.axes._subplots.AxesSubplot at 0x1aef083ac8>"
      ]
     },
     "execution_count": 441,
     "metadata": {},
     "output_type": "execute_result"
    },
    {
     "data": {
      "image/png": "[encoded data removed]",
      "text/plain": [
       "<matplotlib.figure.Figure at 0x1aea84b4a8>"
      ]
     },
     "metadata": {},
     "output_type": "display_data"
    }
   ],
   "source": [
    "sns.countplot(x='results',data=df, palette='hls')"
   ]
  },
  {
   "cell_type": "code",
   "execution_count": 442,
   "metadata": {
    "scrolled": true
   },
   "outputs": [
    {
     "data": {
      "text/plain": [
       "Restaurant                                14578\n",
       "Grocery Store                              2138\n",
       "School                                     1068\n",
       "Children's Services Facility                400\n",
       "Bakery                                      307\n",
       "Daycare (2 - 6 Years)                       247\n",
       "Daycare Above and Under 2 Years             236\n",
       "Long Term Care                              165\n",
       "Mobile Food Preparer                        145\n",
       "Liquor                                      102\n",
       "Catering                                    102\n",
       "Mobile Food Dispenser                        70\n",
       "Hospital                                     62\n",
       "Daycare Combo 1586                           60\n",
       "Golden Diner                                 58\n",
       "Mobile Prepared Food Vendor                  26\n",
       "CHARTER SCHOOL                               24\n",
       "Special Event                                23\n",
       "BANQUET HALL                                 21\n",
       "Shared Kitchen                               18\n",
       "TAVERN                                       16\n",
       "Daycare (Under 2 Years)                      15\n",
       "GAS STATION                                  15\n",
       "tavern                                       10\n",
       "Mobile Frozen Desserts Vendor                 9\n",
       "DAYCARE                                       8\n",
       "MOVIE THEATRE                                 6\n",
       "CHURCH KITCHEN                                6\n",
       "GROCERY STORE/GAS STATION                     6\n",
       "MOBILE DESSERTS VENDOR                        6\n",
       "                                          ...  \n",
       "CHURCH/SPECIAL EVENTS                         1\n",
       "GYM STORE                                     1\n",
       "GROCERY                                       1\n",
       "HERBALCAL                                     1\n",
       "CHILDERN'S SERVICES  FACILITY                 1\n",
       "PUBLIC SHCOOL                                 1\n",
       "A-Not-For-Profit Chef Training Program        1\n",
       "Banquet                                       1\n",
       "JUICE BAR                                     1\n",
       "WHOLESALE & RETAIL                            1\n",
       "CHURCH                                        1\n",
       "CANDY STORE                                   1\n",
       "FITNESS CENTER                                1\n",
       "HEALTH/ JUICE BAR                             1\n",
       "COLLEGE                                       1\n",
       "CAFE/STORE                                    1\n",
       "NURSING HOME                                  1\n",
       "KITCHEN DEMO                                  1\n",
       "Private School                                1\n",
       "ICE CREAM SHOP                                1\n",
       "BAKERY/DELI                                   1\n",
       "REGULATED BUSINESS                            1\n",
       "PALETERIA                                     1\n",
       "REST/GROCERY                                  1\n",
       "ROOFTOP/RESTAURANT                            1\n",
       "Daycare Night                                 1\n",
       "UNIVERSITY CAFETERIA                          1\n",
       "SCHOOL                                        1\n",
       "Banquet Hall                                  1\n",
       "DAYCARE 2 YRS TO 12 YRS                       1\n",
       "Name: facility_type, Length: 178, dtype: int64"
      ]
     },
     "execution_count": 442,
     "metadata": {},
     "output_type": "execute_result"
    }
   ],
   "source": [
    "# Checking the values for different facilities\n",
    "df['facility_type'].value_counts()"
   ]
  },
  {
   "cell_type": "markdown",
   "metadata": {},
   "source": [
    "Mapping the restaurant feature so that 1 denotes Restaurant and 0 represents any other facility"
   ]
  },
  {
   "cell_type": "code",
   "execution_count": 443,
   "metadata": {
    "collapsed": true
   },
   "outputs": [],
   "source": [
    "df['facility_type'] = df['facility_type'].map(lambda x: 1 if x == 'Restaurant' else 0)"
   ]
  },
  {
   "cell_type": "code",
   "execution_count": 444,
   "metadata": {},
   "outputs": [
    {
     "data": {
      "text/plain": [
       "1    14578\n",
       "0     5652\n",
       "Name: facility_type, dtype: int64"
      ]
     },
     "execution_count": 444,
     "metadata": {},
     "output_type": "execute_result"
    }
   ],
   "source": [
    "df['facility_type'].value_counts()"
   ]
  },
  {
   "cell_type": "code",
   "execution_count": 445,
   "metadata": {},
   "outputs": [
    {
     "data": {
      "text/plain": [
       "<matplotlib.axes._subplots.AxesSubplot at 0x1ae8ac4b70>"
      ]
     },
     "execution_count": 445,
     "metadata": {},
     "output_type": "execute_result"
    },
    {
     "data": {
      "image/png": "[encoded data removed]",
      "text/plain": [
       "<matplotlib.figure.Figure at 0x1aea963d30>"
      ]
     },
     "metadata": {},
     "output_type": "display_data"
    }
   ],
   "source": [
    "# Number of food inspections by facility type\n",
    "sns.countplot(x='facility_type',data=df, palette='hls')"
   ]
  },
  {
   "cell_type": "code",
   "execution_count": 446,
   "metadata": {},
   "outputs": [
    {
     "data": {
      "text/plain": [
       "Canvass                                   10634\n",
       "License                                    2724\n",
       "Canvass Re-Inspection                      2614\n",
       "Complaint                                  2021\n",
       "License Re-Inspection                       778\n",
       "Complaint Re-Inspection                     773\n",
       "Short Form Complaint                        545\n",
       "Suspected Food Poisoning                     77\n",
       "Recent Inspection                            35\n",
       "Suspected Food Poisoning Re-inspection       14\n",
       "Consultation                                 11\n",
       "Non-Inspection                                2\n",
       "fire complaint                                1\n",
       "FIRE                                          1\n",
       "Name: inspection_type, dtype: int64"
      ]
     },
     "execution_count": 446,
     "metadata": {},
     "output_type": "execute_result"
    }
   ],
   "source": [
    "#Inspection types\n",
    "df['inspection_type'].value_counts()"
   ]
  },
  {
   "cell_type": "code",
   "execution_count": 447,
   "metadata": {},
   "outputs": [
    {
     "data": {
      "text/plain": [
       "11/29/2016    143\n",
       "03/21/2017    130\n",
       "05/03/2017    126\n",
       "11/03/2016    123\n",
       "05/04/2017    122\n",
       "11/10/2016    122\n",
       "01/19/2017    121\n",
       "05/11/2017    120\n",
       "06/06/2017    119\n",
       "03/23/2017    119\n",
       "11/14/2016    118\n",
       "02/07/2017    118\n",
       "06/08/2017    118\n",
       "05/02/2017    117\n",
       "11/04/2016    117\n",
       "06/15/2017    117\n",
       "01/11/2017    116\n",
       "04/04/2017    115\n",
       "03/15/2017    115\n",
       "03/16/2017    115\n",
       "06/02/2017    113\n",
       "03/10/2017    112\n",
       "03/02/2017    112\n",
       "05/26/2017    112\n",
       "03/09/2017    112\n",
       "06/22/2017    111\n",
       "06/09/2017    110\n",
       "05/15/2017    110\n",
       "02/08/2017    110\n",
       "03/17/2017    109\n",
       "             ... \n",
       "04/07/2017     35\n",
       "10/25/2017     34\n",
       "10/18/2017     33\n",
       "07/03/2017     30\n",
       "11/01/2017     29\n",
       "07/26/2017     28\n",
       "07/05/2017     27\n",
       "11/17/2017     25\n",
       "11/15/2017     25\n",
       "11/28/2016     24\n",
       "01/03/2017     24\n",
       "11/20/2017     21\n",
       "06/10/2017     12\n",
       "11/07/2016     12\n",
       "06/05/2017     10\n",
       "08/07/2017      9\n",
       "12/30/2016      8\n",
       "09/11/2017      6\n",
       "06/24/2017      6\n",
       "08/26/2017      6\n",
       "11/21/2017      4\n",
       "03/13/2017      4\n",
       "05/01/2017      3\n",
       "11/06/2017      3\n",
       "04/03/2017      2\n",
       "02/06/2017      1\n",
       "01/09/2017      1\n",
       "10/02/2017      1\n",
       "02/11/2017      1\n",
       "09/30/2017      1\n",
       "Name: inspection_date, Length: 266, dtype: int64"
      ]
     },
     "execution_count": 447,
     "metadata": {},
     "output_type": "execute_result"
    }
   ],
   "source": [
    "# Number of food inspection by inspection date\n",
    "df['inspection_date'].value_counts()"
   ]
  },
  {
   "cell_type": "code",
   "execution_count": 448,
   "metadata": {},
   "outputs": [
    {
     "data": {
      "text/plain": [
       "<matplotlib.axes._subplots.AxesSubplot at 0x1aedd88cc0>"
      ]
     },
     "execution_count": 448,
     "metadata": {},
     "output_type": "execute_result"
    },
    {
     "data": {
      "image/png": "[encoded data removed]",
      "text/plain": [
       "<matplotlib.figure.Figure at 0x1ae8ae05f8>"
      ]
     },
     "metadata": {},
     "output_type": "display_data"
    }
   ],
   "source": [
    "# Number of food inspections by risk\n",
    "sns.countplot(x='risk',data = df, palette ='hls')"
   ]
  },
  {
   "cell_type": "code",
   "execution_count": 449,
   "metadata": {},
   "outputs": [
    {
     "data": {
      "text/plain": [
       "<matplotlib.axes._subplots.AxesSubplot at 0x1aee9afe10>"
      ]
     },
     "execution_count": 449,
     "metadata": {},
     "output_type": "execute_result"
    },
    {
     "data": {
      "image/png": "[encoded data removed]",
      "text/plain": [
       "<matplotlib.figure.Figure at 0x1aecd81cf8>"
      ]
     },
     "metadata": {},
     "output_type": "display_data"
    }
   ],
   "source": [
    "# Number of food inspections by zip\n",
    "sns.countplot(x='zip',data = df, palette = 'hls')"
   ]
  },
  {
   "cell_type": "code",
   "execution_count": 450,
   "metadata": {},
   "outputs": [
    {
     "data": {
      "text/plain": [
       "<matplotlib.axes._subplots.AxesSubplot at 0x1aeeb0afd0>"
      ]
     },
     "execution_count": 450,
     "metadata": {},
     "output_type": "execute_result"
    },
    {
     "data": {
      "image/png": "[encoded data removed]",
      "text/plain": [
       "<matplotlib.figure.Figure at 0x1ae8fc4160>"
      ]
     },
     "metadata": {},
     "output_type": "display_data"
    }
   ],
   "source": [
    "# Number of food inspections by inspection type\n",
    "sns.countplot(x='inspection_type',data = df,palette = 'hls')"
   ]
  },
  {
   "cell_type": "code",
   "execution_count": 451,
   "metadata": {},
   "outputs": [
    {
     "data": {
      "text/plain": [
       "Risk 1 (High)      15414\n",
       "Risk 2 (Medium)     3618\n",
       "Risk 3 (Low)        1197\n",
       "All                    1\n",
       "Name: risk, dtype: int64"
      ]
     },
     "execution_count": 451,
     "metadata": {},
     "output_type": "execute_result"
    }
   ],
   "source": [
    "df['risk'].value_counts()"
   ]
  },
  {
   "cell_type": "markdown",
   "metadata": {},
   "source": [
    "Transforming risk into a categorical feature having values 1,2,3"
   ]
  },
  {
   "cell_type": "code",
   "execution_count": 452,
   "metadata": {},
   "outputs": [
    {
     "data": {
      "text/plain": [
       "inspection_id         int64\n",
       "dba_name             object\n",
       "aka_name             object\n",
       "license_#           float64\n",
       "facility_type         int64\n",
       "risk               category\n",
       "address              object\n",
       "city                 object\n",
       "state                object\n",
       "zip                 float64\n",
       "inspection_date      object\n",
       "inspection_type      object\n",
       "results               int64\n",
       "violations           object\n",
       "latitude            float64\n",
       "longitude           float64\n",
       "location             object\n",
       "dtype: object"
      ]
     },
     "execution_count": 452,
     "metadata": {},
     "output_type": "execute_result"
    }
   ],
   "source": [
    "df[\"risk\"] = df[\"risk\"].astype('category')\n",
    "df.dtypes"
   ]
  },
  {
   "cell_type": "code",
   "execution_count": 453,
   "metadata": {},
   "outputs": [
    {
     "data": {
      "text/html": [
       "<div>\n",
       "<style>\n",
       "    .dataframe thead tr:only-child th {\n",
       "        text-align: right;\n",
       "    }\n",
       "\n",
       "    .dataframe thead th {\n",
       "        text-align: left;\n",
       "    }\n",
       "\n",
       "    .dataframe tbody tr th {\n",
       "        vertical-align: top;\n",
       "    }\n",
       "</style>\n",
       "<table border=\"1\" class=\"dataframe\">\n",
       "  <thead>\n",
       "    <tr style=\"text-align: right;\">\n",
       "      <th></th>\n",
       "      <th>inspection_id</th>\n",
       "      <th>dba_name</th>\n",
       "      <th>aka_name</th>\n",
       "      <th>license_#</th>\n",
       "      <th>facility_type</th>\n",
       "      <th>risk</th>\n",
       "      <th>address</th>\n",
       "      <th>city</th>\n",
       "      <th>state</th>\n",
       "      <th>zip</th>\n",
       "      <th>inspection_date</th>\n",
       "      <th>inspection_type</th>\n",
       "      <th>results</th>\n",
       "      <th>violations</th>\n",
       "      <th>latitude</th>\n",
       "      <th>longitude</th>\n",
       "      <th>location</th>\n",
       "      <th>risk_cat</th>\n",
       "    </tr>\n",
       "  </thead>\n",
       "  <tbody>\n",
       "    <tr>\n",
       "      <th>0</th>\n",
       "      <td>1970725</td>\n",
       "      <td>ELYSIA ROOT CAKES</td>\n",
       "      <td>ELYSIA ROOT CAKES</td>\n",
       "      <td>2299030.0</td>\n",
       "      <td>0</td>\n",
       "      <td>Risk 2 (Medium)</td>\n",
       "      <td>1939 W FULTON ST</td>\n",
       "      <td>CHICAGO</td>\n",
       "      <td>IL</td>\n",
       "      <td>60612.0</td>\n",
       "      <td>11/02/2016</td>\n",
       "      <td>Canvass</td>\n",
       "      <td>1</td>\n",
       "      <td>32. FOOD AND NON-FOOD CONTACT SURFACES PROPERL...</td>\n",
       "      <td>41.886675</td>\n",
       "      <td>-87.675908</td>\n",
       "      <td>(41.886674822367304, -87.67590783571049)</td>\n",
       "      <td>2</td>\n",
       "    </tr>\n",
       "    <tr>\n",
       "      <th>1</th>\n",
       "      <td>1970723</td>\n",
       "      <td>TODDLER TOWN DAY CARE TOO</td>\n",
       "      <td>TODDLER TOWN DAY CARE TOO</td>\n",
       "      <td>2215881.0</td>\n",
       "      <td>0</td>\n",
       "      <td>Risk 1 (High)</td>\n",
       "      <td>5934-5936 W DIVERSEY AVE</td>\n",
       "      <td>CHICAGO</td>\n",
       "      <td>IL</td>\n",
       "      <td>60639.0</td>\n",
       "      <td>11/02/2016</td>\n",
       "      <td>Canvass</td>\n",
       "      <td>1</td>\n",
       "      <td>35. WALLS, CEILINGS, ATTACHED EQUIPMENT CONSTR...</td>\n",
       "      <td>41.931263</td>\n",
       "      <td>-87.774969</td>\n",
       "      <td>(41.9312625519017, -87.77496927376998)</td>\n",
       "      <td>1</td>\n",
       "    </tr>\n",
       "    <tr>\n",
       "      <th>2</th>\n",
       "      <td>1970704</td>\n",
       "      <td>CHICAGO CREAMPUFFS AND CAKES LLC.</td>\n",
       "      <td>CHICAGO CREAMPUFFS AND CAKES LLC.</td>\n",
       "      <td>2293718.0</td>\n",
       "      <td>0</td>\n",
       "      <td>Risk 2 (Medium)</td>\n",
       "      <td>2734 W 111TH ST</td>\n",
       "      <td>CHICAGO</td>\n",
       "      <td>IL</td>\n",
       "      <td>60655.0</td>\n",
       "      <td>11/02/2016</td>\n",
       "      <td>Canvass</td>\n",
       "      <td>0</td>\n",
       "      <td>None</td>\n",
       "      <td>41.691808</td>\n",
       "      <td>-87.689885</td>\n",
       "      <td>(41.6918083543123, -87.6898852579178)</td>\n",
       "      <td>2</td>\n",
       "    </tr>\n",
       "    <tr>\n",
       "      <th>3</th>\n",
       "      <td>1955335</td>\n",
       "      <td>CHIPOTLE MEXICAN GRILL#2768</td>\n",
       "      <td>CHIPOTLE</td>\n",
       "      <td>2476569.0</td>\n",
       "      <td>1</td>\n",
       "      <td>Risk 1 (High)</td>\n",
       "      <td>806 W 63RD ST</td>\n",
       "      <td>CHICAGO</td>\n",
       "      <td>IL</td>\n",
       "      <td>60621.0</td>\n",
       "      <td>11/02/2016</td>\n",
       "      <td>License Re-Inspection</td>\n",
       "      <td>1</td>\n",
       "      <td>None</td>\n",
       "      <td>41.779856</td>\n",
       "      <td>-87.645142</td>\n",
       "      <td>(41.77985559084816, -87.64514243359771)</td>\n",
       "      <td>1</td>\n",
       "    </tr>\n",
       "    <tr>\n",
       "      <th>4</th>\n",
       "      <td>1970749</td>\n",
       "      <td>79TH KINGSTONE FOOD MART</td>\n",
       "      <td>79TH KINGSTONE FOOD MART</td>\n",
       "      <td>1245200.0</td>\n",
       "      <td>0</td>\n",
       "      <td>Risk 2 (Medium)</td>\n",
       "      <td>2523 E 79TH ST</td>\n",
       "      <td>CHICAGO</td>\n",
       "      <td>IL</td>\n",
       "      <td>60649.0</td>\n",
       "      <td>11/02/2016</td>\n",
       "      <td>Short Form Complaint</td>\n",
       "      <td>1</td>\n",
       "      <td>38. VENTILATION: ROOMS AND EQUIPMENT VENTED AS...</td>\n",
       "      <td>41.751666</td>\n",
       "      <td>-87.562823</td>\n",
       "      <td>(41.75166609505252, -87.56282258645444)</td>\n",
       "      <td>2</td>\n",
       "    </tr>\n",
       "  </tbody>\n",
       "</table>\n",
       "</div>"
      ],
      "text/plain": [
       "   inspection_id                           dba_name  \\\n",
       "0        1970725                  ELYSIA ROOT CAKES   \n",
       "1        1970723          TODDLER TOWN DAY CARE TOO   \n",
       "2        1970704  CHICAGO CREAMPUFFS AND CAKES LLC.   \n",
       "3        1955335        CHIPOTLE MEXICAN GRILL#2768   \n",
       "4        1970749           79TH KINGSTONE FOOD MART   \n",
       "\n",
       "                            aka_name  license_#  facility_type  \\\n",
       "0                  ELYSIA ROOT CAKES  2299030.0              0   \n",
       "1          TODDLER TOWN DAY CARE TOO  2215881.0              0   \n",
       "2  CHICAGO CREAMPUFFS AND CAKES LLC.  2293718.0              0   \n",
       "3                           CHIPOTLE  2476569.0              1   \n",
       "4           79TH KINGSTONE FOOD MART  1245200.0              0   \n",
       "\n",
       "              risk                    address     city state      zip  \\\n",
       "0  Risk 2 (Medium)          1939 W FULTON ST   CHICAGO    IL  60612.0   \n",
       "1    Risk 1 (High)  5934-5936 W DIVERSEY AVE   CHICAGO    IL  60639.0   \n",
       "2  Risk 2 (Medium)           2734 W 111TH ST   CHICAGO    IL  60655.0   \n",
       "3    Risk 1 (High)             806 W 63RD ST   CHICAGO    IL  60621.0   \n",
       "4  Risk 2 (Medium)            2523 E 79TH ST   CHICAGO    IL  60649.0   \n",
       "\n",
       "  inspection_date        inspection_type  results  \\\n",
       "0      11/02/2016                Canvass        1   \n",
       "1      11/02/2016                Canvass        1   \n",
       "2      11/02/2016                Canvass        0   \n",
       "3      11/02/2016  License Re-Inspection        1   \n",
       "4      11/02/2016   Short Form Complaint        1   \n",
       "\n",
       "                                          violations   latitude  longitude  \\\n",
       "0  32. FOOD AND NON-FOOD CONTACT SURFACES PROPERL...  41.886675 -87.675908   \n",
       "1  35. WALLS, CEILINGS, ATTACHED EQUIPMENT CONSTR...  41.931263 -87.774969   \n",
       "2                                               None  41.691808 -87.689885   \n",
       "3                                               None  41.779856 -87.645142   \n",
       "4  38. VENTILATION: ROOMS AND EQUIPMENT VENTED AS...  41.751666 -87.562823   \n",
       "\n",
       "                                   location  risk_cat  \n",
       "0  (41.886674822367304, -87.67590783571049)         2  \n",
       "1    (41.9312625519017, -87.77496927376998)         1  \n",
       "2     (41.6918083543123, -87.6898852579178)         2  \n",
       "3   (41.77985559084816, -87.64514243359771)         1  \n",
       "4   (41.75166609505252, -87.56282258645444)         2  "
      ]
     },
     "execution_count": 453,
     "metadata": {},
     "output_type": "execute_result"
    }
   ],
   "source": [
    "df[\"risk_cat\"] = df[\"risk\"].cat.codes\n",
    "df.head()"
   ]
  },
  {
   "cell_type": "code",
   "execution_count": 454,
   "metadata": {
    "collapsed": true
   },
   "outputs": [],
   "source": [
    "df['risk']= df['risk_cat']"
   ]
  },
  {
   "cell_type": "code",
   "execution_count": 455,
   "metadata": {},
   "outputs": [
    {
     "data": {
      "text/html": [
       "<div>\n",
       "<style>\n",
       "    .dataframe thead tr:only-child th {\n",
       "        text-align: right;\n",
       "    }\n",
       "\n",
       "    .dataframe thead th {\n",
       "        text-align: left;\n",
       "    }\n",
       "\n",
       "    .dataframe tbody tr th {\n",
       "        vertical-align: top;\n",
       "    }\n",
       "</style>\n",
       "<table border=\"1\" class=\"dataframe\">\n",
       "  <thead>\n",
       "    <tr style=\"text-align: right;\">\n",
       "      <th></th>\n",
       "      <th>inspection_id</th>\n",
       "      <th>dba_name</th>\n",
       "      <th>aka_name</th>\n",
       "      <th>license_#</th>\n",
       "      <th>facility_type</th>\n",
       "      <th>risk</th>\n",
       "      <th>address</th>\n",
       "      <th>city</th>\n",
       "      <th>state</th>\n",
       "      <th>zip</th>\n",
       "      <th>inspection_date</th>\n",
       "      <th>inspection_type</th>\n",
       "      <th>results</th>\n",
       "      <th>violations</th>\n",
       "      <th>latitude</th>\n",
       "      <th>longitude</th>\n",
       "      <th>location</th>\n",
       "      <th>risk_cat</th>\n",
       "    </tr>\n",
       "  </thead>\n",
       "  <tbody>\n",
       "    <tr>\n",
       "      <th>0</th>\n",
       "      <td>1970725</td>\n",
       "      <td>ELYSIA ROOT CAKES</td>\n",
       "      <td>ELYSIA ROOT CAKES</td>\n",
       "      <td>2299030.0</td>\n",
       "      <td>0</td>\n",
       "      <td>2</td>\n",
       "      <td>1939 W FULTON ST</td>\n",
       "      <td>CHICAGO</td>\n",
       "      <td>IL</td>\n",
       "      <td>60612.0</td>\n",
       "      <td>11/02/2016</td>\n",
       "      <td>Canvass</td>\n",
       "      <td>1</td>\n",
       "      <td>32. FOOD AND NON-FOOD CONTACT SURFACES PROPERL...</td>\n",
       "      <td>41.886675</td>\n",
       "      <td>-87.675908</td>\n",
       "      <td>(41.886674822367304, -87.67590783571049)</td>\n",
       "      <td>2</td>\n",
       "    </tr>\n",
       "    <tr>\n",
       "      <th>1</th>\n",
       "      <td>1970723</td>\n",
       "      <td>TODDLER TOWN DAY CARE TOO</td>\n",
       "      <td>TODDLER TOWN DAY CARE TOO</td>\n",
       "      <td>2215881.0</td>\n",
       "      <td>0</td>\n",
       "      <td>1</td>\n",
       "      <td>5934-5936 W DIVERSEY AVE</td>\n",
       "      <td>CHICAGO</td>\n",
       "      <td>IL</td>\n",
       "      <td>60639.0</td>\n",
       "      <td>11/02/2016</td>\n",
       "      <td>Canvass</td>\n",
       "      <td>1</td>\n",
       "      <td>35. WALLS, CEILINGS, ATTACHED EQUIPMENT CONSTR...</td>\n",
       "      <td>41.931263</td>\n",
       "      <td>-87.774969</td>\n",
       "      <td>(41.9312625519017, -87.77496927376998)</td>\n",
       "      <td>1</td>\n",
       "    </tr>\n",
       "    <tr>\n",
       "      <th>2</th>\n",
       "      <td>1970704</td>\n",
       "      <td>CHICAGO CREAMPUFFS AND CAKES LLC.</td>\n",
       "      <td>CHICAGO CREAMPUFFS AND CAKES LLC.</td>\n",
       "      <td>2293718.0</td>\n",
       "      <td>0</td>\n",
       "      <td>2</td>\n",
       "      <td>2734 W 111TH ST</td>\n",
       "      <td>CHICAGO</td>\n",
       "      <td>IL</td>\n",
       "      <td>60655.0</td>\n",
       "      <td>11/02/2016</td>\n",
       "      <td>Canvass</td>\n",
       "      <td>0</td>\n",
       "      <td>None</td>\n",
       "      <td>41.691808</td>\n",
       "      <td>-87.689885</td>\n",
       "      <td>(41.6918083543123, -87.6898852579178)</td>\n",
       "      <td>2</td>\n",
       "    </tr>\n",
       "    <tr>\n",
       "      <th>3</th>\n",
       "      <td>1955335</td>\n",
       "      <td>CHIPOTLE MEXICAN GRILL#2768</td>\n",
       "      <td>CHIPOTLE</td>\n",
       "      <td>2476569.0</td>\n",
       "      <td>1</td>\n",
       "      <td>1</td>\n",
       "      <td>806 W 63RD ST</td>\n",
       "      <td>CHICAGO</td>\n",
       "      <td>IL</td>\n",
       "      <td>60621.0</td>\n",
       "      <td>11/02/2016</td>\n",
       "      <td>License Re-Inspection</td>\n",
       "      <td>1</td>\n",
       "      <td>None</td>\n",
       "      <td>41.779856</td>\n",
       "      <td>-87.645142</td>\n",
       "      <td>(41.77985559084816, -87.64514243359771)</td>\n",
       "      <td>1</td>\n",
       "    </tr>\n",
       "    <tr>\n",
       "      <th>4</th>\n",
       "      <td>1970749</td>\n",
       "      <td>79TH KINGSTONE FOOD MART</td>\n",
       "      <td>79TH KINGSTONE FOOD MART</td>\n",
       "      <td>1245200.0</td>\n",
       "      <td>0</td>\n",
       "      <td>2</td>\n",
       "      <td>2523 E 79TH ST</td>\n",
       "      <td>CHICAGO</td>\n",
       "      <td>IL</td>\n",
       "      <td>60649.0</td>\n",
       "      <td>11/02/2016</td>\n",
       "      <td>Short Form Complaint</td>\n",
       "      <td>1</td>\n",
       "      <td>38. VENTILATION: ROOMS AND EQUIPMENT VENTED AS...</td>\n",
       "      <td>41.751666</td>\n",
       "      <td>-87.562823</td>\n",
       "      <td>(41.75166609505252, -87.56282258645444)</td>\n",
       "      <td>2</td>\n",
       "    </tr>\n",
       "  </tbody>\n",
       "</table>\n",
       "</div>"
      ],
      "text/plain": [
       "   inspection_id                           dba_name  \\\n",
       "0        1970725                  ELYSIA ROOT CAKES   \n",
       "1        1970723          TODDLER TOWN DAY CARE TOO   \n",
       "2        1970704  CHICAGO CREAMPUFFS AND CAKES LLC.   \n",
       "3        1955335        CHIPOTLE MEXICAN GRILL#2768   \n",
       "4        1970749           79TH KINGSTONE FOOD MART   \n",
       "\n",
       "                            aka_name  license_#  facility_type  risk  \\\n",
       "0                  ELYSIA ROOT CAKES  2299030.0              0     2   \n",
       "1          TODDLER TOWN DAY CARE TOO  2215881.0              0     1   \n",
       "2  CHICAGO CREAMPUFFS AND CAKES LLC.  2293718.0              0     2   \n",
       "3                           CHIPOTLE  2476569.0              1     1   \n",
       "4           79TH KINGSTONE FOOD MART  1245200.0              0     2   \n",
       "\n",
       "                     address     city state      zip inspection_date  \\\n",
       "0          1939 W FULTON ST   CHICAGO    IL  60612.0      11/02/2016   \n",
       "1  5934-5936 W DIVERSEY AVE   CHICAGO    IL  60639.0      11/02/2016   \n",
       "2           2734 W 111TH ST   CHICAGO    IL  60655.0      11/02/2016   \n",
       "3             806 W 63RD ST   CHICAGO    IL  60621.0      11/02/2016   \n",
       "4            2523 E 79TH ST   CHICAGO    IL  60649.0      11/02/2016   \n",
       "\n",
       "         inspection_type  results  \\\n",
       "0                Canvass        1   \n",
       "1                Canvass        1   \n",
       "2                Canvass        0   \n",
       "3  License Re-Inspection        1   \n",
       "4   Short Form Complaint        1   \n",
       "\n",
       "                                          violations   latitude  longitude  \\\n",
       "0  32. FOOD AND NON-FOOD CONTACT SURFACES PROPERL...  41.886675 -87.675908   \n",
       "1  35. WALLS, CEILINGS, ATTACHED EQUIPMENT CONSTR...  41.931263 -87.774969   \n",
       "2                                               None  41.691808 -87.689885   \n",
       "3                                               None  41.779856 -87.645142   \n",
       "4  38. VENTILATION: ROOMS AND EQUIPMENT VENTED AS...  41.751666 -87.562823   \n",
       "\n",
       "                                   location  risk_cat  \n",
       "0  (41.886674822367304, -87.67590783571049)         2  \n",
       "1    (41.9312625519017, -87.77496927376998)         1  \n",
       "2     (41.6918083543123, -87.6898852579178)         2  \n",
       "3   (41.77985559084816, -87.64514243359771)         1  \n",
       "4   (41.75166609505252, -87.56282258645444)         2  "
      ]
     },
     "execution_count": 455,
     "metadata": {},
     "output_type": "execute_result"
    }
   ],
   "source": [
    "df.head()"
   ]
  },
  {
   "cell_type": "code",
   "execution_count": 456,
   "metadata": {},
   "outputs": [
    {
     "data": {
      "text/plain": [
       "<matplotlib.axes._subplots.AxesSubplot at 0x1aeec52160>"
      ]
     },
     "execution_count": 456,
     "metadata": {},
     "output_type": "execute_result"
    },
    {
     "data": {
      "image/png": "[encoded data removed]",
      "text/plain": [
       "<matplotlib.figure.Figure at 0x1aeed226a0>"
      ]
     },
     "metadata": {},
     "output_type": "display_data"
    }
   ],
   "source": [
    "# Number of food inspections by risk\n",
    "sns.countplot(x='risk',data = df, palette ='hls')"
   ]
  },
  {
   "cell_type": "code",
   "execution_count": 457,
   "metadata": {},
   "outputs": [
    {
     "data": {
      "text/plain": [
       "<matplotlib.axes._subplots.AxesSubplot at 0x1aeec702e8>"
      ]
     },
     "execution_count": 457,
     "metadata": {},
     "output_type": "execute_result"
    },
    {
     "data": {
      "image/png": "[encoded data removed]",
      "text/plain": [
       "<matplotlib.figure.Figure at 0x1aef187ef0>"
      ]
     },
     "metadata": {},
     "output_type": "display_data"
    }
   ],
   "source": [
    "sns.heatmap(df.corr())"
   ]
  },
  {
   "cell_type": "markdown",
   "metadata": {
    "collapsed": true
   },
   "source": [
    "## Preprocessing"
   ]
  },
  {
   "cell_type": "code",
   "execution_count": 458,
   "metadata": {},
   "outputs": [
    {
     "data": {
      "text/html": [
       "<div>\n",
       "<style>\n",
       "    .dataframe thead tr:only-child th {\n",
       "        text-align: right;\n",
       "    }\n",
       "\n",
       "    .dataframe thead th {\n",
       "        text-align: left;\n",
       "    }\n",
       "\n",
       "    .dataframe tbody tr th {\n",
       "        vertical-align: top;\n",
       "    }\n",
       "</style>\n",
       "<table border=\"1\" class=\"dataframe\">\n",
       "  <thead>\n",
       "    <tr style=\"text-align: right;\">\n",
       "      <th></th>\n",
       "      <th>inspection_id</th>\n",
       "      <th>dba_name</th>\n",
       "      <th>aka_name</th>\n",
       "      <th>license_#</th>\n",
       "      <th>facility_type</th>\n",
       "      <th>risk</th>\n",
       "      <th>address</th>\n",
       "      <th>city</th>\n",
       "      <th>state</th>\n",
       "      <th>zip</th>\n",
       "      <th>inspection_date</th>\n",
       "      <th>inspection_type</th>\n",
       "      <th>results</th>\n",
       "      <th>violations</th>\n",
       "      <th>latitude</th>\n",
       "      <th>longitude</th>\n",
       "      <th>location</th>\n",
       "      <th>risk_cat</th>\n",
       "    </tr>\n",
       "  </thead>\n",
       "  <tbody>\n",
       "    <tr>\n",
       "      <th>0</th>\n",
       "      <td>1970725</td>\n",
       "      <td>ELYSIA ROOT CAKES</td>\n",
       "      <td>ELYSIA ROOT CAKES</td>\n",
       "      <td>2299030.0</td>\n",
       "      <td>0</td>\n",
       "      <td>2</td>\n",
       "      <td>1939 W FULTON ST</td>\n",
       "      <td>CHICAGO</td>\n",
       "      <td>IL</td>\n",
       "      <td>60612.0</td>\n",
       "      <td>11/02/2016</td>\n",
       "      <td>Canvass</td>\n",
       "      <td>1</td>\n",
       "      <td>32. FOOD AND NON-FOOD CONTACT SURFACES PROPERL...</td>\n",
       "      <td>41.886675</td>\n",
       "      <td>-87.675908</td>\n",
       "      <td>(41.886674822367304, -87.67590783571049)</td>\n",
       "      <td>2</td>\n",
       "    </tr>\n",
       "    <tr>\n",
       "      <th>1</th>\n",
       "      <td>1970723</td>\n",
       "      <td>TODDLER TOWN DAY CARE TOO</td>\n",
       "      <td>TODDLER TOWN DAY CARE TOO</td>\n",
       "      <td>2215881.0</td>\n",
       "      <td>0</td>\n",
       "      <td>1</td>\n",
       "      <td>5934-5936 W DIVERSEY AVE</td>\n",
       "      <td>CHICAGO</td>\n",
       "      <td>IL</td>\n",
       "      <td>60639.0</td>\n",
       "      <td>11/02/2016</td>\n",
       "      <td>Canvass</td>\n",
       "      <td>1</td>\n",
       "      <td>35. WALLS, CEILINGS, ATTACHED EQUIPMENT CONSTR...</td>\n",
       "      <td>41.931263</td>\n",
       "      <td>-87.774969</td>\n",
       "      <td>(41.9312625519017, -87.77496927376998)</td>\n",
       "      <td>1</td>\n",
       "    </tr>\n",
       "    <tr>\n",
       "      <th>2</th>\n",
       "      <td>1970704</td>\n",
       "      <td>CHICAGO CREAMPUFFS AND CAKES LLC.</td>\n",
       "      <td>CHICAGO CREAMPUFFS AND CAKES LLC.</td>\n",
       "      <td>2293718.0</td>\n",
       "      <td>0</td>\n",
       "      <td>2</td>\n",
       "      <td>2734 W 111TH ST</td>\n",
       "      <td>CHICAGO</td>\n",
       "      <td>IL</td>\n",
       "      <td>60655.0</td>\n",
       "      <td>11/02/2016</td>\n",
       "      <td>Canvass</td>\n",
       "      <td>0</td>\n",
       "      <td>None</td>\n",
       "      <td>41.691808</td>\n",
       "      <td>-87.689885</td>\n",
       "      <td>(41.6918083543123, -87.6898852579178)</td>\n",
       "      <td>2</td>\n",
       "    </tr>\n",
       "    <tr>\n",
       "      <th>3</th>\n",
       "      <td>1955335</td>\n",
       "      <td>CHIPOTLE MEXICAN GRILL#2768</td>\n",
       "      <td>CHIPOTLE</td>\n",
       "      <td>2476569.0</td>\n",
       "      <td>1</td>\n",
       "      <td>1</td>\n",
       "      <td>806 W 63RD ST</td>\n",
       "      <td>CHICAGO</td>\n",
       "      <td>IL</td>\n",
       "      <td>60621.0</td>\n",
       "      <td>11/02/2016</td>\n",
       "      <td>License Re-Inspection</td>\n",
       "      <td>1</td>\n",
       "      <td>None</td>\n",
       "      <td>41.779856</td>\n",
       "      <td>-87.645142</td>\n",
       "      <td>(41.77985559084816, -87.64514243359771)</td>\n",
       "      <td>1</td>\n",
       "    </tr>\n",
       "    <tr>\n",
       "      <th>4</th>\n",
       "      <td>1970749</td>\n",
       "      <td>79TH KINGSTONE FOOD MART</td>\n",
       "      <td>79TH KINGSTONE FOOD MART</td>\n",
       "      <td>1245200.0</td>\n",
       "      <td>0</td>\n",
       "      <td>2</td>\n",
       "      <td>2523 E 79TH ST</td>\n",
       "      <td>CHICAGO</td>\n",
       "      <td>IL</td>\n",
       "      <td>60649.0</td>\n",
       "      <td>11/02/2016</td>\n",
       "      <td>Short Form Complaint</td>\n",
       "      <td>1</td>\n",
       "      <td>38. VENTILATION: ROOMS AND EQUIPMENT VENTED AS...</td>\n",
       "      <td>41.751666</td>\n",
       "      <td>-87.562823</td>\n",
       "      <td>(41.75166609505252, -87.56282258645444)</td>\n",
       "      <td>2</td>\n",
       "    </tr>\n",
       "  </tbody>\n",
       "</table>\n",
       "</div>"
      ],
      "text/plain": [
       "   inspection_id                           dba_name  \\\n",
       "0        1970725                  ELYSIA ROOT CAKES   \n",
       "1        1970723          TODDLER TOWN DAY CARE TOO   \n",
       "2        1970704  CHICAGO CREAMPUFFS AND CAKES LLC.   \n",
       "3        1955335        CHIPOTLE MEXICAN GRILL#2768   \n",
       "4        1970749           79TH KINGSTONE FOOD MART   \n",
       "\n",
       "                            aka_name  license_#  facility_type  risk  \\\n",
       "0                  ELYSIA ROOT CAKES  2299030.0              0     2   \n",
       "1          TODDLER TOWN DAY CARE TOO  2215881.0              0     1   \n",
       "2  CHICAGO CREAMPUFFS AND CAKES LLC.  2293718.0              0     2   \n",
       "3                           CHIPOTLE  2476569.0              1     1   \n",
       "4           79TH KINGSTONE FOOD MART  1245200.0              0     2   \n",
       "\n",
       "                     address     city state      zip inspection_date  \\\n",
       "0          1939 W FULTON ST   CHICAGO    IL  60612.0      11/02/2016   \n",
       "1  5934-5936 W DIVERSEY AVE   CHICAGO    IL  60639.0      11/02/2016   \n",
       "2           2734 W 111TH ST   CHICAGO    IL  60655.0      11/02/2016   \n",
       "3             806 W 63RD ST   CHICAGO    IL  60621.0      11/02/2016   \n",
       "4            2523 E 79TH ST   CHICAGO    IL  60649.0      11/02/2016   \n",
       "\n",
       "         inspection_type  results  \\\n",
       "0                Canvass        1   \n",
       "1                Canvass        1   \n",
       "2                Canvass        0   \n",
       "3  License Re-Inspection        1   \n",
       "4   Short Form Complaint        1   \n",
       "\n",
       "                                          violations   latitude  longitude  \\\n",
       "0  32. FOOD AND NON-FOOD CONTACT SURFACES PROPERL...  41.886675 -87.675908   \n",
       "1  35. WALLS, CEILINGS, ATTACHED EQUIPMENT CONSTR...  41.931263 -87.774969   \n",
       "2                                               None  41.691808 -87.689885   \n",
       "3                                               None  41.779856 -87.645142   \n",
       "4  38. VENTILATION: ROOMS AND EQUIPMENT VENTED AS...  41.751666 -87.562823   \n",
       "\n",
       "                                   location  risk_cat  \n",
       "0  (41.886674822367304, -87.67590783571049)         2  \n",
       "1    (41.9312625519017, -87.77496927376998)         1  \n",
       "2     (41.6918083543123, -87.6898852579178)         2  \n",
       "3   (41.77985559084816, -87.64514243359771)         1  \n",
       "4   (41.75166609505252, -87.56282258645444)         2  "
      ]
     },
     "execution_count": 458,
     "metadata": {},
     "output_type": "execute_result"
    }
   ],
   "source": [
    "df.head()"
   ]
  },
  {
   "cell_type": "code",
   "execution_count": 459,
   "metadata": {
    "collapsed": true
   },
   "outputs": [],
   "source": [
    "df1 = df[['inspection_type','violations','results']]"
   ]
  },
  {
   "cell_type": "code",
   "execution_count": 460,
   "metadata": {},
   "outputs": [
    {
     "data": {
      "text/html": [
       "<div>\n",
       "<style>\n",
       "    .dataframe thead tr:only-child th {\n",
       "        text-align: right;\n",
       "    }\n",
       "\n",
       "    .dataframe thead th {\n",
       "        text-align: left;\n",
       "    }\n",
       "\n",
       "    .dataframe tbody tr th {\n",
       "        vertical-align: top;\n",
       "    }\n",
       "</style>\n",
       "<table border=\"1\" class=\"dataframe\">\n",
       "  <thead>\n",
       "    <tr style=\"text-align: right;\">\n",
       "      <th></th>\n",
       "      <th>inspection_type</th>\n",
       "      <th>violations</th>\n",
       "      <th>results</th>\n",
       "    </tr>\n",
       "  </thead>\n",
       "  <tbody>\n",
       "    <tr>\n",
       "      <th>0</th>\n",
       "      <td>Canvass</td>\n",
       "      <td>32. FOOD AND NON-FOOD CONTACT SURFACES PROPERL...</td>\n",
       "      <td>1</td>\n",
       "    </tr>\n",
       "    <tr>\n",
       "      <th>1</th>\n",
       "      <td>Canvass</td>\n",
       "      <td>35. WALLS, CEILINGS, ATTACHED EQUIPMENT CONSTR...</td>\n",
       "      <td>1</td>\n",
       "    </tr>\n",
       "    <tr>\n",
       "      <th>2</th>\n",
       "      <td>Canvass</td>\n",
       "      <td>None</td>\n",
       "      <td>0</td>\n",
       "    </tr>\n",
       "    <tr>\n",
       "      <th>3</th>\n",
       "      <td>License Re-Inspection</td>\n",
       "      <td>None</td>\n",
       "      <td>1</td>\n",
       "    </tr>\n",
       "    <tr>\n",
       "      <th>4</th>\n",
       "      <td>Short Form Complaint</td>\n",
       "      <td>38. VENTILATION: ROOMS AND EQUIPMENT VENTED AS...</td>\n",
       "      <td>1</td>\n",
       "    </tr>\n",
       "  </tbody>\n",
       "</table>\n",
       "</div>"
      ],
      "text/plain": [
       "         inspection_type                                         violations  \\\n",
       "0                Canvass  32. FOOD AND NON-FOOD CONTACT SURFACES PROPERL...   \n",
       "1                Canvass  35. WALLS, CEILINGS, ATTACHED EQUIPMENT CONSTR...   \n",
       "2                Canvass                                               None   \n",
       "3  License Re-Inspection                                               None   \n",
       "4   Short Form Complaint  38. VENTILATION: ROOMS AND EQUIPMENT VENTED AS...   \n",
       "\n",
       "   results  \n",
       "0        1  \n",
       "1        1  \n",
       "2        0  \n",
       "3        1  \n",
       "4        1  "
      ]
     },
     "execution_count": 460,
     "metadata": {},
     "output_type": "execute_result"
    }
   ],
   "source": [
    "df1.head()"
   ]
  },
  {
   "cell_type": "code",
   "execution_count": 461,
   "metadata": {
    "collapsed": true
   },
   "outputs": [],
   "source": [
    "df1 = df1.copy().reset_index(drop=True)"
   ]
  },
  {
   "cell_type": "code",
   "execution_count": 462,
   "metadata": {
    "scrolled": true
   },
   "outputs": [
    {
     "data": {
      "text/html": [
       "<div>\n",
       "<style>\n",
       "    .dataframe thead tr:only-child th {\n",
       "        text-align: right;\n",
       "    }\n",
       "\n",
       "    .dataframe thead th {\n",
       "        text-align: left;\n",
       "    }\n",
       "\n",
       "    .dataframe tbody tr th {\n",
       "        vertical-align: top;\n",
       "    }\n",
       "</style>\n",
       "<table border=\"1\" class=\"dataframe\">\n",
       "  <thead>\n",
       "    <tr style=\"text-align: right;\">\n",
       "      <th></th>\n",
       "      <th>inspection_type</th>\n",
       "      <th>violations</th>\n",
       "      <th>results</th>\n",
       "    </tr>\n",
       "  </thead>\n",
       "  <tbody>\n",
       "    <tr>\n",
       "      <th>0</th>\n",
       "      <td>Canvass</td>\n",
       "      <td>32. FOOD AND NON-FOOD CONTACT SURFACES PROPERL...</td>\n",
       "      <td>1</td>\n",
       "    </tr>\n",
       "    <tr>\n",
       "      <th>1</th>\n",
       "      <td>Canvass</td>\n",
       "      <td>35. WALLS, CEILINGS, ATTACHED EQUIPMENT CONSTR...</td>\n",
       "      <td>1</td>\n",
       "    </tr>\n",
       "    <tr>\n",
       "      <th>2</th>\n",
       "      <td>Canvass</td>\n",
       "      <td>None</td>\n",
       "      <td>0</td>\n",
       "    </tr>\n",
       "    <tr>\n",
       "      <th>3</th>\n",
       "      <td>License Re-Inspection</td>\n",
       "      <td>None</td>\n",
       "      <td>1</td>\n",
       "    </tr>\n",
       "    <tr>\n",
       "      <th>4</th>\n",
       "      <td>Short Form Complaint</td>\n",
       "      <td>38. VENTILATION: ROOMS AND EQUIPMENT VENTED AS...</td>\n",
       "      <td>1</td>\n",
       "    </tr>\n",
       "  </tbody>\n",
       "</table>\n",
       "</div>"
      ],
      "text/plain": [
       "         inspection_type                                         violations  \\\n",
       "0                Canvass  32. FOOD AND NON-FOOD CONTACT SURFACES PROPERL...   \n",
       "1                Canvass  35. WALLS, CEILINGS, ATTACHED EQUIPMENT CONSTR...   \n",
       "2                Canvass                                               None   \n",
       "3  License Re-Inspection                                               None   \n",
       "4   Short Form Complaint  38. VENTILATION: ROOMS AND EQUIPMENT VENTED AS...   \n",
       "\n",
       "   results  \n",
       "0        1  \n",
       "1        1  \n",
       "2        0  \n",
       "3        1  \n",
       "4        1  "
      ]
     },
     "execution_count": 462,
     "metadata": {},
     "output_type": "execute_result"
    }
   ],
   "source": [
    "df1.head()"
   ]
  },
  {
   "cell_type": "code",
   "execution_count": 463,
   "metadata": {
    "collapsed": true
   },
   "outputs": [],
   "source": [
    "def remove_punctuation(text):\n",
    "    lower = text.lower()\n",
    "    exclude = set(string.punctuation)\n",
    "    return \"\".join(ch for ch in lower if ch not in exclude)"
   ]
  },
  {
   "cell_type": "code",
   "execution_count": 464,
   "metadata": {
    "collapsed": true
   },
   "outputs": [],
   "source": [
    "df1['processed_text'] = df1['violations'].apply(remove_punctuation)"
   ]
  },
  {
   "cell_type": "code",
   "execution_count": 465,
   "metadata": {},
   "outputs": [
    {
     "data": {
      "text/html": [
       "<div>\n",
       "<style>\n",
       "    .dataframe thead tr:only-child th {\n",
       "        text-align: right;\n",
       "    }\n",
       "\n",
       "    .dataframe thead th {\n",
       "        text-align: left;\n",
       "    }\n",
       "\n",
       "    .dataframe tbody tr th {\n",
       "        vertical-align: top;\n",
       "    }\n",
       "</style>\n",
       "<table border=\"1\" class=\"dataframe\">\n",
       "  <thead>\n",
       "    <tr style=\"text-align: right;\">\n",
       "      <th></th>\n",
       "      <th>inspection_type</th>\n",
       "      <th>violations</th>\n",
       "      <th>results</th>\n",
       "      <th>processed_text</th>\n",
       "    </tr>\n",
       "  </thead>\n",
       "  <tbody>\n",
       "    <tr>\n",
       "      <th>0</th>\n",
       "      <td>Canvass</td>\n",
       "      <td>32. FOOD AND NON-FOOD CONTACT SURFACES PROPERL...</td>\n",
       "      <td>1</td>\n",
       "      <td>32 food and nonfood contact surfaces properly ...</td>\n",
       "    </tr>\n",
       "    <tr>\n",
       "      <th>1</th>\n",
       "      <td>Canvass</td>\n",
       "      <td>35. WALLS, CEILINGS, ATTACHED EQUIPMENT CONSTR...</td>\n",
       "      <td>1</td>\n",
       "      <td>35 walls ceilings attached equipment construct...</td>\n",
       "    </tr>\n",
       "    <tr>\n",
       "      <th>2</th>\n",
       "      <td>Canvass</td>\n",
       "      <td>None</td>\n",
       "      <td>0</td>\n",
       "      <td>none</td>\n",
       "    </tr>\n",
       "    <tr>\n",
       "      <th>3</th>\n",
       "      <td>License Re-Inspection</td>\n",
       "      <td>None</td>\n",
       "      <td>1</td>\n",
       "      <td>none</td>\n",
       "    </tr>\n",
       "    <tr>\n",
       "      <th>4</th>\n",
       "      <td>Short Form Complaint</td>\n",
       "      <td>38. VENTILATION: ROOMS AND EQUIPMENT VENTED AS...</td>\n",
       "      <td>1</td>\n",
       "      <td>38 ventilation rooms and equipment vented as r...</td>\n",
       "    </tr>\n",
       "  </tbody>\n",
       "</table>\n",
       "</div>"
      ],
      "text/plain": [
       "         inspection_type                                         violations  \\\n",
       "0                Canvass  32. FOOD AND NON-FOOD CONTACT SURFACES PROPERL...   \n",
       "1                Canvass  35. WALLS, CEILINGS, ATTACHED EQUIPMENT CONSTR...   \n",
       "2                Canvass                                               None   \n",
       "3  License Re-Inspection                                               None   \n",
       "4   Short Form Complaint  38. VENTILATION: ROOMS AND EQUIPMENT VENTED AS...   \n",
       "\n",
       "   results                                     processed_text  \n",
       "0        1  32 food and nonfood contact surfaces properly ...  \n",
       "1        1  35 walls ceilings attached equipment construct...  \n",
       "2        0                                               none  \n",
       "3        1                                               none  \n",
       "4        1  38 ventilation rooms and equipment vented as r...  "
      ]
     },
     "execution_count": 465,
     "metadata": {},
     "output_type": "execute_result"
    }
   ],
   "source": [
    "df1.head()"
   ]
  },
  {
   "cell_type": "code",
   "execution_count": 466,
   "metadata": {
    "collapsed": true
   },
   "outputs": [],
   "source": [
    "def remove_stopwords(x):\n",
    "    lower = x.lower()\n",
    "    split = lower.split()\n",
    "    final = ''\n",
    "    for i in split:\n",
    "        if i not in stopwords.words('english'):\n",
    "            final += (i + \" \")\n",
    "    return final"
   ]
  },
  {
   "cell_type": "code",
   "execution_count": 467,
   "metadata": {
    "collapsed": true
   },
   "outputs": [],
   "source": [
    "df1['processed_text1'] = df1['processed_text'].apply(remove_stopwords)"
   ]
  },
  {
   "cell_type": "code",
   "execution_count": 468,
   "metadata": {},
   "outputs": [
    {
     "data": {
      "text/html": [
       "<div>\n",
       "<style>\n",
       "    .dataframe thead tr:only-child th {\n",
       "        text-align: right;\n",
       "    }\n",
       "\n",
       "    .dataframe thead th {\n",
       "        text-align: left;\n",
       "    }\n",
       "\n",
       "    .dataframe tbody tr th {\n",
       "        vertical-align: top;\n",
       "    }\n",
       "</style>\n",
       "<table border=\"1\" class=\"dataframe\">\n",
       "  <thead>\n",
       "    <tr style=\"text-align: right;\">\n",
       "      <th></th>\n",
       "      <th>inspection_type</th>\n",
       "      <th>violations</th>\n",
       "      <th>results</th>\n",
       "      <th>processed_text</th>\n",
       "      <th>processed_text1</th>\n",
       "    </tr>\n",
       "  </thead>\n",
       "  <tbody>\n",
       "    <tr>\n",
       "      <th>0</th>\n",
       "      <td>Canvass</td>\n",
       "      <td>32. FOOD AND NON-FOOD CONTACT SURFACES PROPERL...</td>\n",
       "      <td>1</td>\n",
       "      <td>32 food and nonfood contact surfaces properly ...</td>\n",
       "      <td>32 food nonfood contact surfaces properly desi...</td>\n",
       "    </tr>\n",
       "    <tr>\n",
       "      <th>1</th>\n",
       "      <td>Canvass</td>\n",
       "      <td>35. WALLS, CEILINGS, ATTACHED EQUIPMENT CONSTR...</td>\n",
       "      <td>1</td>\n",
       "      <td>35 walls ceilings attached equipment construct...</td>\n",
       "      <td>35 walls ceilings attached equipment construct...</td>\n",
       "    </tr>\n",
       "    <tr>\n",
       "      <th>2</th>\n",
       "      <td>Canvass</td>\n",
       "      <td>None</td>\n",
       "      <td>0</td>\n",
       "      <td>none</td>\n",
       "      <td>none</td>\n",
       "    </tr>\n",
       "    <tr>\n",
       "      <th>3</th>\n",
       "      <td>License Re-Inspection</td>\n",
       "      <td>None</td>\n",
       "      <td>1</td>\n",
       "      <td>none</td>\n",
       "      <td>none</td>\n",
       "    </tr>\n",
       "    <tr>\n",
       "      <th>4</th>\n",
       "      <td>Short Form Complaint</td>\n",
       "      <td>38. VENTILATION: ROOMS AND EQUIPMENT VENTED AS...</td>\n",
       "      <td>1</td>\n",
       "      <td>38 ventilation rooms and equipment vented as r...</td>\n",
       "      <td>38 ventilation rooms equipment vented required...</td>\n",
       "    </tr>\n",
       "  </tbody>\n",
       "</table>\n",
       "</div>"
      ],
      "text/plain": [
       "         inspection_type                                         violations  \\\n",
       "0                Canvass  32. FOOD AND NON-FOOD CONTACT SURFACES PROPERL...   \n",
       "1                Canvass  35. WALLS, CEILINGS, ATTACHED EQUIPMENT CONSTR...   \n",
       "2                Canvass                                               None   \n",
       "3  License Re-Inspection                                               None   \n",
       "4   Short Form Complaint  38. VENTILATION: ROOMS AND EQUIPMENT VENTED AS...   \n",
       "\n",
       "   results                                     processed_text  \\\n",
       "0        1  32 food and nonfood contact surfaces properly ...   \n",
       "1        1  35 walls ceilings attached equipment construct...   \n",
       "2        0                                               none   \n",
       "3        1                                               none   \n",
       "4        1  38 ventilation rooms and equipment vented as r...   \n",
       "\n",
       "                                     processed_text1  \n",
       "0  32 food nonfood contact surfaces properly desi...  \n",
       "1  35 walls ceilings attached equipment construct...  \n",
       "2                                              none   \n",
       "3                                              none   \n",
       "4  38 ventilation rooms equipment vented required...  "
      ]
     },
     "execution_count": 468,
     "metadata": {},
     "output_type": "execute_result"
    }
   ],
   "source": [
    "df1.head()"
   ]
  },
  {
   "cell_type": "code",
   "execution_count": 469,
   "metadata": {
    "collapsed": true
   },
   "outputs": [],
   "source": [
    "stemmer = PorterStemmer()"
   ]
  },
  {
   "cell_type": "code",
   "execution_count": 470,
   "metadata": {
    "collapsed": true
   },
   "outputs": [],
   "source": [
    "def split_and_stem(string):\n",
    "    string = string.split(' ')\n",
    "    temp = \"\"\n",
    "    for i in string:\n",
    "        temp += (stemmer.stem(i) + \" \")\n",
    "    return temp"
   ]
  },
  {
   "cell_type": "code",
   "execution_count": 471,
   "metadata": {
    "collapsed": true
   },
   "outputs": [],
   "source": [
    "df1['processed_text2'] = df1['processed_text1'].apply(split_and_stem)"
   ]
  },
  {
   "cell_type": "code",
   "execution_count": 472,
   "metadata": {},
   "outputs": [
    {
     "data": {
      "text/html": [
       "<div>\n",
       "<style>\n",
       "    .dataframe thead tr:only-child th {\n",
       "        text-align: right;\n",
       "    }\n",
       "\n",
       "    .dataframe thead th {\n",
       "        text-align: left;\n",
       "    }\n",
       "\n",
       "    .dataframe tbody tr th {\n",
       "        vertical-align: top;\n",
       "    }\n",
       "</style>\n",
       "<table border=\"1\" class=\"dataframe\">\n",
       "  <thead>\n",
       "    <tr style=\"text-align: right;\">\n",
       "      <th></th>\n",
       "      <th>inspection_type</th>\n",
       "      <th>violations</th>\n",
       "      <th>results</th>\n",
       "      <th>processed_text</th>\n",
       "      <th>processed_text1</th>\n",
       "      <th>processed_text2</th>\n",
       "    </tr>\n",
       "  </thead>\n",
       "  <tbody>\n",
       "    <tr>\n",
       "      <th>0</th>\n",
       "      <td>Canvass</td>\n",
       "      <td>32. FOOD AND NON-FOOD CONTACT SURFACES PROPERL...</td>\n",
       "      <td>1</td>\n",
       "      <td>32 food and nonfood contact surfaces properly ...</td>\n",
       "      <td>32 food nonfood contact surfaces properly desi...</td>\n",
       "      <td>32 food nonfood contact surfac properli design...</td>\n",
       "    </tr>\n",
       "    <tr>\n",
       "      <th>1</th>\n",
       "      <td>Canvass</td>\n",
       "      <td>35. WALLS, CEILINGS, ATTACHED EQUIPMENT CONSTR...</td>\n",
       "      <td>1</td>\n",
       "      <td>35 walls ceilings attached equipment construct...</td>\n",
       "      <td>35 walls ceilings attached equipment construct...</td>\n",
       "      <td>35 wall ceil attach equip construct per code g...</td>\n",
       "    </tr>\n",
       "    <tr>\n",
       "      <th>2</th>\n",
       "      <td>Canvass</td>\n",
       "      <td>None</td>\n",
       "      <td>0</td>\n",
       "      <td>none</td>\n",
       "      <td>none</td>\n",
       "      <td>none</td>\n",
       "    </tr>\n",
       "    <tr>\n",
       "      <th>3</th>\n",
       "      <td>License Re-Inspection</td>\n",
       "      <td>None</td>\n",
       "      <td>1</td>\n",
       "      <td>none</td>\n",
       "      <td>none</td>\n",
       "      <td>none</td>\n",
       "    </tr>\n",
       "    <tr>\n",
       "      <th>4</th>\n",
       "      <td>Short Form Complaint</td>\n",
       "      <td>38. VENTILATION: ROOMS AND EQUIPMENT VENTED AS...</td>\n",
       "      <td>1</td>\n",
       "      <td>38 ventilation rooms and equipment vented as r...</td>\n",
       "      <td>38 ventilation rooms equipment vented required...</td>\n",
       "      <td>38 ventil room equip vent requir plumb instal ...</td>\n",
       "    </tr>\n",
       "  </tbody>\n",
       "</table>\n",
       "</div>"
      ],
      "text/plain": [
       "         inspection_type                                         violations  \\\n",
       "0                Canvass  32. FOOD AND NON-FOOD CONTACT SURFACES PROPERL...   \n",
       "1                Canvass  35. WALLS, CEILINGS, ATTACHED EQUIPMENT CONSTR...   \n",
       "2                Canvass                                               None   \n",
       "3  License Re-Inspection                                               None   \n",
       "4   Short Form Complaint  38. VENTILATION: ROOMS AND EQUIPMENT VENTED AS...   \n",
       "\n",
       "   results                                     processed_text  \\\n",
       "0        1  32 food and nonfood contact surfaces properly ...   \n",
       "1        1  35 walls ceilings attached equipment construct...   \n",
       "2        0                                               none   \n",
       "3        1                                               none   \n",
       "4        1  38 ventilation rooms and equipment vented as r...   \n",
       "\n",
       "                                     processed_text1  \\\n",
       "0  32 food nonfood contact surfaces properly desi...   \n",
       "1  35 walls ceilings attached equipment construct...   \n",
       "2                                              none    \n",
       "3                                              none    \n",
       "4  38 ventilation rooms equipment vented required...   \n",
       "\n",
       "                                     processed_text2  \n",
       "0  32 food nonfood contact surfac properli design...  \n",
       "1  35 wall ceil attach equip construct per code g...  \n",
       "2                                             none    \n",
       "3                                             none    \n",
       "4  38 ventil room equip vent requir plumb instal ...  "
      ]
     },
     "execution_count": 472,
     "metadata": {},
     "output_type": "execute_result"
    }
   ],
   "source": [
    "df1.head()"
   ]
  },
  {
   "cell_type": "markdown",
   "metadata": {},
   "source": [
    "# Modeling\n"
   ]
  },
  {
   "cell_type": "code",
   "execution_count": 473,
   "metadata": {
    "collapsed": true
   },
   "outputs": [],
   "source": [
    "X = df1['processed_text2']\n",
    "y = df1['results'].values"
   ]
  },
  {
   "cell_type": "code",
   "execution_count": 474,
   "metadata": {
    "collapsed": true
   },
   "outputs": [],
   "source": [
    "X_train,X_test,y_train,y_test = train_test_split(X,y,test_size=0.33)"
   ]
  },
  {
   "cell_type": "code",
   "execution_count": 475,
   "metadata": {},
   "outputs": [
    {
     "data": {
      "text/plain": [
       "((6676,), (13554,))"
      ]
     },
     "execution_count": 475,
     "metadata": {},
     "output_type": "execute_result"
    }
   ],
   "source": [
    "y_test.shape,y_train.shape"
   ]
  },
  {
   "cell_type": "code",
   "execution_count": 476,
   "metadata": {
    "collapsed": true
   },
   "outputs": [],
   "source": [
    "cvec = CountVectorizer()"
   ]
  },
  {
   "cell_type": "code",
   "execution_count": 477,
   "metadata": {
    "collapsed": true
   },
   "outputs": [],
   "source": [
    "df_train  = pd.DataFrame(cvec.fit_transform(X_train).todense(),\n",
    "             columns=cvec.get_feature_names())"
   ]
  },
  {
   "cell_type": "code",
   "execution_count": 478,
   "metadata": {},
   "outputs": [
    {
     "data": {
      "text/html": [
       "<div>\n",
       "<style>\n",
       "    .dataframe thead tr:only-child th {\n",
       "        text-align: right;\n",
       "    }\n",
       "\n",
       "    .dataframe thead th {\n",
       "        text-align: left;\n",
       "    }\n",
       "\n",
       "    .dataframe tbody tr th {\n",
       "        vertical-align: top;\n",
       "    }\n",
       "</style>\n",
       "<table border=\"1\" class=\"dataframe\">\n",
       "  <thead>\n",
       "    <tr style=\"text-align: right;\">\n",
       "      <th></th>\n",
       "      <th>001</th>\n",
       "      <th>001must</th>\n",
       "      <th>002</th>\n",
       "      <th>002must</th>\n",
       "      <th>004stain</th>\n",
       "      <th>005must</th>\n",
       "      <th>006</th>\n",
       "      <th>00f</th>\n",
       "      <th>00ppm</th>\n",
       "      <th>01042017</th>\n",
       "      <th>...</th>\n",
       "      <th>zapper</th>\n",
       "      <th>zaya</th>\n",
       "      <th>zero</th>\n",
       "      <th>zhang</th>\n",
       "      <th>ziolocor</th>\n",
       "      <th>zip</th>\n",
       "      <th>ziploc</th>\n",
       "      <th>ziplock</th>\n",
       "      <th>zone</th>\n",
       "      <th>zucchini</th>\n",
       "    </tr>\n",
       "  </thead>\n",
       "  <tbody>\n",
       "    <tr>\n",
       "      <th>0</th>\n",
       "      <td>0</td>\n",
       "      <td>0</td>\n",
       "      <td>0</td>\n",
       "      <td>0</td>\n",
       "      <td>0</td>\n",
       "      <td>0</td>\n",
       "      <td>0</td>\n",
       "      <td>0</td>\n",
       "      <td>0</td>\n",
       "      <td>0</td>\n",
       "      <td>...</td>\n",
       "      <td>0</td>\n",
       "      <td>0</td>\n",
       "      <td>0</td>\n",
       "      <td>0</td>\n",
       "      <td>0</td>\n",
       "      <td>0</td>\n",
       "      <td>0</td>\n",
       "      <td>0</td>\n",
       "      <td>0</td>\n",
       "      <td>0</td>\n",
       "    </tr>\n",
       "    <tr>\n",
       "      <th>1</th>\n",
       "      <td>0</td>\n",
       "      <td>0</td>\n",
       "      <td>0</td>\n",
       "      <td>0</td>\n",
       "      <td>0</td>\n",
       "      <td>0</td>\n",
       "      <td>0</td>\n",
       "      <td>0</td>\n",
       "      <td>0</td>\n",
       "      <td>0</td>\n",
       "      <td>...</td>\n",
       "      <td>0</td>\n",
       "      <td>0</td>\n",
       "      <td>0</td>\n",
       "      <td>0</td>\n",
       "      <td>0</td>\n",
       "      <td>0</td>\n",
       "      <td>0</td>\n",
       "      <td>0</td>\n",
       "      <td>0</td>\n",
       "      <td>0</td>\n",
       "    </tr>\n",
       "    <tr>\n",
       "      <th>2</th>\n",
       "      <td>0</td>\n",
       "      <td>0</td>\n",
       "      <td>0</td>\n",
       "      <td>0</td>\n",
       "      <td>0</td>\n",
       "      <td>0</td>\n",
       "      <td>0</td>\n",
       "      <td>0</td>\n",
       "      <td>0</td>\n",
       "      <td>0</td>\n",
       "      <td>...</td>\n",
       "      <td>0</td>\n",
       "      <td>0</td>\n",
       "      <td>0</td>\n",
       "      <td>0</td>\n",
       "      <td>0</td>\n",
       "      <td>0</td>\n",
       "      <td>0</td>\n",
       "      <td>0</td>\n",
       "      <td>0</td>\n",
       "      <td>0</td>\n",
       "    </tr>\n",
       "    <tr>\n",
       "      <th>3</th>\n",
       "      <td>0</td>\n",
       "      <td>0</td>\n",
       "      <td>0</td>\n",
       "      <td>0</td>\n",
       "      <td>0</td>\n",
       "      <td>0</td>\n",
       "      <td>0</td>\n",
       "      <td>0</td>\n",
       "      <td>0</td>\n",
       "      <td>0</td>\n",
       "      <td>...</td>\n",
       "      <td>0</td>\n",
       "      <td>0</td>\n",
       "      <td>0</td>\n",
       "      <td>0</td>\n",
       "      <td>0</td>\n",
       "      <td>0</td>\n",
       "      <td>0</td>\n",
       "      <td>0</td>\n",
       "      <td>0</td>\n",
       "      <td>0</td>\n",
       "    </tr>\n",
       "    <tr>\n",
       "      <th>4</th>\n",
       "      <td>0</td>\n",
       "      <td>0</td>\n",
       "      <td>0</td>\n",
       "      <td>0</td>\n",
       "      <td>0</td>\n",
       "      <td>0</td>\n",
       "      <td>0</td>\n",
       "      <td>0</td>\n",
       "      <td>0</td>\n",
       "      <td>0</td>\n",
       "      <td>...</td>\n",
       "      <td>0</td>\n",
       "      <td>0</td>\n",
       "      <td>0</td>\n",
       "      <td>0</td>\n",
       "      <td>0</td>\n",
       "      <td>0</td>\n",
       "      <td>0</td>\n",
       "      <td>0</td>\n",
       "      <td>0</td>\n",
       "      <td>0</td>\n",
       "    </tr>\n",
       "  </tbody>\n",
       "</table>\n",
       "<p>5 rows × 19638 columns</p>\n",
       "</div>"
      ],
      "text/plain": [
       "   001  001must  002  002must  004stain  005must  006  00f  00ppm  01042017  \\\n",
       "0    0        0    0        0         0        0    0    0      0         0   \n",
       "1    0        0    0        0         0        0    0    0      0         0   \n",
       "2    0        0    0        0         0        0    0    0      0         0   \n",
       "3    0        0    0        0         0        0    0    0      0         0   \n",
       "4    0        0    0        0         0        0    0    0      0         0   \n",
       "\n",
       "     ...     zapper  zaya  zero  zhang  ziolocor  zip  ziploc  ziplock  zone  \\\n",
       "0    ...          0     0     0      0         0    0       0        0     0   \n",
       "1    ...          0     0     0      0         0    0       0        0     0   \n",
       "2    ...          0     0     0      0         0    0       0        0     0   \n",
       "3    ...          0     0     0      0         0    0       0        0     0   \n",
       "4    ...          0     0     0      0         0    0       0        0     0   \n",
       "\n",
       "   zucchini  \n",
       "0         0  \n",
       "1         0  \n",
       "2         0  \n",
       "3         0  \n",
       "4         0  \n",
       "\n",
       "[5 rows x 19638 columns]"
      ]
     },
     "execution_count": 478,
     "metadata": {},
     "output_type": "execute_result"
    }
   ],
   "source": [
    "df_train.head()"
   ]
  },
  {
   "cell_type": "code",
   "execution_count": 479,
   "metadata": {
    "collapsed": true
   },
   "outputs": [],
   "source": [
    "df_test = pd.DataFrame(cvec.transform(X_test).todense(),\n",
    "             columns=cvec.get_feature_names())"
   ]
  },
  {
   "cell_type": "code",
   "execution_count": 480,
   "metadata": {
    "scrolled": true
   },
   "outputs": [
    {
     "data": {
      "text/html": [
       "<div>\n",
       "<style>\n",
       "    .dataframe thead tr:only-child th {\n",
       "        text-align: right;\n",
       "    }\n",
       "\n",
       "    .dataframe thead th {\n",
       "        text-align: left;\n",
       "    }\n",
       "\n",
       "    .dataframe tbody tr th {\n",
       "        vertical-align: top;\n",
       "    }\n",
       "</style>\n",
       "<table border=\"1\" class=\"dataframe\">\n",
       "  <thead>\n",
       "    <tr style=\"text-align: right;\">\n",
       "      <th></th>\n",
       "      <th>001</th>\n",
       "      <th>001must</th>\n",
       "      <th>002</th>\n",
       "      <th>002must</th>\n",
       "      <th>004stain</th>\n",
       "      <th>005must</th>\n",
       "      <th>006</th>\n",
       "      <th>00f</th>\n",
       "      <th>00ppm</th>\n",
       "      <th>01042017</th>\n",
       "      <th>...</th>\n",
       "      <th>zapper</th>\n",
       "      <th>zaya</th>\n",
       "      <th>zero</th>\n",
       "      <th>zhang</th>\n",
       "      <th>ziolocor</th>\n",
       "      <th>zip</th>\n",
       "      <th>ziploc</th>\n",
       "      <th>ziplock</th>\n",
       "      <th>zone</th>\n",
       "      <th>zucchini</th>\n",
       "    </tr>\n",
       "  </thead>\n",
       "  <tbody>\n",
       "    <tr>\n",
       "      <th>0</th>\n",
       "      <td>0</td>\n",
       "      <td>0</td>\n",
       "      <td>0</td>\n",
       "      <td>0</td>\n",
       "      <td>0</td>\n",
       "      <td>0</td>\n",
       "      <td>0</td>\n",
       "      <td>0</td>\n",
       "      <td>0</td>\n",
       "      <td>0</td>\n",
       "      <td>...</td>\n",
       "      <td>0</td>\n",
       "      <td>0</td>\n",
       "      <td>0</td>\n",
       "      <td>0</td>\n",
       "      <td>0</td>\n",
       "      <td>0</td>\n",
       "      <td>0</td>\n",
       "      <td>0</td>\n",
       "      <td>0</td>\n",
       "      <td>0</td>\n",
       "    </tr>\n",
       "    <tr>\n",
       "      <th>1</th>\n",
       "      <td>0</td>\n",
       "      <td>0</td>\n",
       "      <td>0</td>\n",
       "      <td>0</td>\n",
       "      <td>0</td>\n",
       "      <td>0</td>\n",
       "      <td>0</td>\n",
       "      <td>0</td>\n",
       "      <td>0</td>\n",
       "      <td>0</td>\n",
       "      <td>...</td>\n",
       "      <td>0</td>\n",
       "      <td>0</td>\n",
       "      <td>0</td>\n",
       "      <td>0</td>\n",
       "      <td>0</td>\n",
       "      <td>0</td>\n",
       "      <td>0</td>\n",
       "      <td>0</td>\n",
       "      <td>0</td>\n",
       "      <td>0</td>\n",
       "    </tr>\n",
       "    <tr>\n",
       "      <th>2</th>\n",
       "      <td>0</td>\n",
       "      <td>0</td>\n",
       "      <td>0</td>\n",
       "      <td>0</td>\n",
       "      <td>0</td>\n",
       "      <td>0</td>\n",
       "      <td>0</td>\n",
       "      <td>0</td>\n",
       "      <td>0</td>\n",
       "      <td>0</td>\n",
       "      <td>...</td>\n",
       "      <td>0</td>\n",
       "      <td>0</td>\n",
       "      <td>0</td>\n",
       "      <td>0</td>\n",
       "      <td>0</td>\n",
       "      <td>0</td>\n",
       "      <td>0</td>\n",
       "      <td>0</td>\n",
       "      <td>0</td>\n",
       "      <td>0</td>\n",
       "    </tr>\n",
       "    <tr>\n",
       "      <th>3</th>\n",
       "      <td>0</td>\n",
       "      <td>0</td>\n",
       "      <td>0</td>\n",
       "      <td>0</td>\n",
       "      <td>0</td>\n",
       "      <td>0</td>\n",
       "      <td>0</td>\n",
       "      <td>0</td>\n",
       "      <td>0</td>\n",
       "      <td>0</td>\n",
       "      <td>...</td>\n",
       "      <td>0</td>\n",
       "      <td>0</td>\n",
       "      <td>0</td>\n",
       "      <td>0</td>\n",
       "      <td>0</td>\n",
       "      <td>0</td>\n",
       "      <td>0</td>\n",
       "      <td>0</td>\n",
       "      <td>0</td>\n",
       "      <td>0</td>\n",
       "    </tr>\n",
       "    <tr>\n",
       "      <th>4</th>\n",
       "      <td>0</td>\n",
       "      <td>0</td>\n",
       "      <td>0</td>\n",
       "      <td>0</td>\n",
       "      <td>0</td>\n",
       "      <td>0</td>\n",
       "      <td>0</td>\n",
       "      <td>0</td>\n",
       "      <td>0</td>\n",
       "      <td>0</td>\n",
       "      <td>...</td>\n",
       "      <td>0</td>\n",
       "      <td>0</td>\n",
       "      <td>0</td>\n",
       "      <td>0</td>\n",
       "      <td>0</td>\n",
       "      <td>0</td>\n",
       "      <td>0</td>\n",
       "      <td>0</td>\n",
       "      <td>0</td>\n",
       "      <td>0</td>\n",
       "    </tr>\n",
       "  </tbody>\n",
       "</table>\n",
       "<p>5 rows × 19638 columns</p>\n",
       "</div>"
      ],
      "text/plain": [
       "   001  001must  002  002must  004stain  005must  006  00f  00ppm  01042017  \\\n",
       "0    0        0    0        0         0        0    0    0      0         0   \n",
       "1    0        0    0        0         0        0    0    0      0         0   \n",
       "2    0        0    0        0         0        0    0    0      0         0   \n",
       "3    0        0    0        0         0        0    0    0      0         0   \n",
       "4    0        0    0        0         0        0    0    0      0         0   \n",
       "\n",
       "     ...     zapper  zaya  zero  zhang  ziolocor  zip  ziploc  ziplock  zone  \\\n",
       "0    ...          0     0     0      0         0    0       0        0     0   \n",
       "1    ...          0     0     0      0         0    0       0        0     0   \n",
       "2    ...          0     0     0      0         0    0       0        0     0   \n",
       "3    ...          0     0     0      0         0    0       0        0     0   \n",
       "4    ...          0     0     0      0         0    0       0        0     0   \n",
       "\n",
       "   zucchini  \n",
       "0         0  \n",
       "1         0  \n",
       "2         0  \n",
       "3         0  \n",
       "4         0  \n",
       "\n",
       "[5 rows x 19638 columns]"
      ]
     },
     "execution_count": 480,
     "metadata": {},
     "output_type": "execute_result"
    }
   ],
   "source": [
    "df_test.head()"
   ]
  },
  {
   "cell_type": "markdown",
   "metadata": {},
   "source": [
    "# Random Forest Classifier"
   ]
  },
  {
   "cell_type": "code",
   "execution_count": 486,
   "metadata": {
    "collapsed": true
   },
   "outputs": [],
   "source": [
    "rfc = RandomForestClassifier()"
   ]
  },
  {
   "cell_type": "code",
   "execution_count": 487,
   "metadata": {},
   "outputs": [
    {
     "data": {
      "text/plain": [
       "RandomForestClassifier(bootstrap=True, class_weight=None, criterion='gini',\n",
       "            max_depth=None, max_features='auto', max_leaf_nodes=None,\n",
       "            min_impurity_decrease=0.0, min_impurity_split=None,\n",
       "            min_samples_leaf=1, min_samples_split=2,\n",
       "            min_weight_fraction_leaf=0.0, n_estimators=10, n_jobs=1,\n",
       "            oob_score=False, random_state=None, verbose=0,\n",
       "            warm_start=False)"
      ]
     },
     "execution_count": 487,
     "metadata": {},
     "output_type": "execute_result"
    }
   ],
   "source": [
    "rfc.fit(df_train, y_train)"
   ]
  },
  {
   "cell_type": "code",
   "execution_count": 488,
   "metadata": {},
   "outputs": [
    {
     "data": {
      "text/plain": [
       "(6676, 19638)"
      ]
     },
     "execution_count": 488,
     "metadata": {},
     "output_type": "execute_result"
    }
   ],
   "source": [
    "df_test.shape"
   ]
  },
  {
   "cell_type": "code",
   "execution_count": 489,
   "metadata": {},
   "outputs": [
    {
     "data": {
      "text/plain": [
       "0.94245241257193446"
      ]
     },
     "execution_count": 489,
     "metadata": {},
     "output_type": "execute_result"
    }
   ],
   "source": [
    "rfc.score(df_train, y_train)"
   ]
  },
  {
   "cell_type": "code",
   "execution_count": 490,
   "metadata": {},
   "outputs": [
    {
     "data": {
      "text/plain": [
       "0.87582384661473933"
      ]
     },
     "execution_count": 490,
     "metadata": {},
     "output_type": "execute_result"
    }
   ],
   "source": [
    "rfc.score(df_test, y_test)"
   ]
  },
  {
   "cell_type": "code",
   "execution_count": 491,
   "metadata": {
    "collapsed": true
   },
   "outputs": [],
   "source": [
    "def run_model(x_train, y_train, x_test, y_test, rfc):\n",
    "    rfc.fit(x_train, y_train)\n",
    "    print(\"Base model score: \" + str(np.mean(y_test))[:6])\n",
    "    print(\"Training set score: \", str(rfc.score(x_train, y_train))[:6])\n",
    "    print (\"Test set score: \", str(rfc.score(x_test, y_test))[:6])\n",
    "    predictions = rfc.predict(x_test)\n",
    "    print (\"\\nConfusion Matrix:\\n\", pd.DataFrame(confusion_matrix(y_test, predictions), \n",
    "                                              columns=['predicted_0', 'predicted_1'], index=['is_0', 'is_1']))\n",
    "    print (\"\\nClassification Report:\\n\",classification_report(y_test, predictions))"
   ]
  },
  {
   "cell_type": "code",
   "execution_count": 492,
   "metadata": {},
   "outputs": [
    {
     "name": "stdout",
     "output_type": "stream",
     "text": [
      "Base model score: 0.6730\n",
      "Training set score:  0.9424\n",
      "Test set score:  0.8633\n",
      "\n",
      "Confusion Matrix:\n",
      "       predicted_0  predicted_1\n",
      "is_0         1810          373\n",
      "is_1          539         3954\n",
      "\n",
      "Classification Report:\n",
      "              precision    recall  f1-score   support\n",
      "\n",
      "          0       0.77      0.83      0.80      2183\n",
      "          1       0.91      0.88      0.90      4493\n",
      "\n",
      "avg / total       0.87      0.86      0.86      6676\n",
      "\n"
     ]
    }
   ],
   "source": [
    "run_model(df_train, y_train, df_test, y_test, rfc)"
   ]
  },
  {
   "cell_type": "code",
   "execution_count": 493,
   "metadata": {
    "collapsed": true
   },
   "outputs": [],
   "source": [
    "rfc_y_score = rfc.predict_proba(df_test)[:,1]"
   ]
  },
  {
   "cell_type": "code",
   "execution_count": 494,
   "metadata": {},
   "outputs": [
    {
     "name": "stdout",
     "output_type": "stream",
     "text": [
      "0.925327319873\n"
     ]
    }
   ],
   "source": [
    "print(roc_auc_score(y_test, rfc_y_score))"
   ]
  },
  {
   "cell_type": "code",
   "execution_count": 495,
   "metadata": {
    "collapsed": true
   },
   "outputs": [],
   "source": [
    "rfc_FPR = dict()\n",
    "rfc_TPR = dict()\n",
    "rfc_ROC_AUC = dict()"
   ]
  },
  {
   "cell_type": "code",
   "execution_count": 496,
   "metadata": {},
   "outputs": [
    {
     "data": {
      "text/plain": [
       "(array([ 0.        ,  0.01007787,  0.01007787,  0.01007787,  0.02656894,\n",
       "         0.02656894,  0.05542831,  0.05542831,  0.10719194,  0.10719194,\n",
       "         0.17086578,  0.24507558,  0.24553367,  0.24553367,  0.32661475,\n",
       "         0.32753092,  0.72423271,  0.82867613,  0.90792487,  0.97068255,  1.        ]),\n",
       " array([ 0.        ,  0.51346539,  0.5141331 ,  0.51502337,  0.69752949,\n",
       "         0.69775206,  0.79701758,  0.79746272,  0.84865346,  0.84887603,\n",
       "         0.88003561,  0.90229245,  0.90229245,  0.90251502,  0.9125306 ,\n",
       "         0.9125306 ,  0.99109726,  0.99710661,  0.99910973,  1.        ,  1.        ]),\n",
       " array([ 2.        ,  1.        ,  0.93046843,  0.9301626 ,  0.9       ,\n",
       "         0.8301626 ,  0.8       ,  0.73127753,  0.7       ,  0.65      ,\n",
       "         0.6       ,  0.5       ,  0.475     ,  0.45      ,  0.4       ,\n",
       "         0.32828843,  0.3034086 ,  0.3       ,  0.2       ,  0.1       ,  0.        ]))"
      ]
     },
     "execution_count": 496,
     "metadata": {},
     "output_type": "execute_result"
    }
   ],
   "source": [
    "roc_curve(y_test, rfc_y_score)"
   ]
  },
  {
   "cell_type": "code",
   "execution_count": 497,
   "metadata": {
    "collapsed": true
   },
   "outputs": [],
   "source": [
    "rfc_FPR[1], rfc_TPR[1], _ = roc_curve(y_test, rfc_y_score)\n",
    "rfc_ROC_AUC[1] = auc(rfc_FPR[1], rfc_TPR[1])"
   ]
  },
  {
   "cell_type": "code",
   "execution_count": 498,
   "metadata": {},
   "outputs": [
    {
     "data": {
      "image/png": "[encoded data removed]",
      "text/plain": [
       "<matplotlib.figure.Figure at 0x1aef2e2048>"
      ]
     },
     "metadata": {},
     "output_type": "display_data"
    }
   ],
   "source": [
    "plt.figure(figsize=[7,5])\n",
    "plt.plot(rfc_FPR[1], rfc_TPR[1], label='ROC curve (area = %0.3f)' % rfc_ROC_AUC[1], linewidth=3)\n",
    "plt.plot([0, 1], [0, 1], 'k--', linewidth=3)\n",
    "plt.xlim([0.0, 1])\n",
    "plt.ylim([0.0, 1])\n",
    "plt.xlabel('False Positive Rate', fontsize=18)\n",
    "plt.ylabel('True Positive Rate', fontsize=18)\n",
    "plt.title('Random Forest Classifier ROC Curve', fontsize=18)\n",
    "plt.legend(loc=\"lower right\")\n",
    "plt.show()"
   ]
  },
  {
   "cell_type": "markdown",
   "metadata": {},
   "source": [
    "## Boosting and Bagging for Support Vector Machines,Randomforest, keras ******(To Be done)"
   ]
  },
  {
   "cell_type": "code",
   "execution_count": 499,
   "metadata": {},
   "outputs": [
    {
     "data": {
      "text/plain": [
       "LinearSVC(C=1.0, class_weight=None, dual=True, fit_intercept=True,\n",
       "     intercept_scaling=1, loss='squared_hinge', max_iter=1000,\n",
       "     multi_class='ovr', penalty='l2', random_state=None, tol=0.0001,\n",
       "     verbose=0)"
      ]
     },
     "execution_count": 499,
     "metadata": {},
     "output_type": "execute_result"
    }
   ],
   "source": [
    "linearsvc = LinearSVC()\n",
    "linearsvc.fit(df_train, y_train)"
   ]
  },
  {
   "cell_type": "code",
   "execution_count": 500,
   "metadata": {},
   "outputs": [
    {
     "data": {
      "text/plain": [
       "0.94282130736314007"
      ]
     },
     "execution_count": 500,
     "metadata": {},
     "output_type": "execute_result"
    }
   ],
   "source": [
    "linearsvc.score(df_train, y_train)\n"
   ]
  },
  {
   "cell_type": "code",
   "execution_count": 501,
   "metadata": {},
   "outputs": [
    {
     "data": {
      "text/plain": [
       "0.89065308568004797"
      ]
     },
     "execution_count": 501,
     "metadata": {},
     "output_type": "execute_result"
    }
   ],
   "source": [
    "linearsvc.score(df_test, y_test)"
   ]
  },
  {
   "cell_type": "code",
   "execution_count": 502,
   "metadata": {},
   "outputs": [
    {
     "name": "stdout",
     "output_type": "stream",
     "text": [
      "Base model score: 0.6730\n",
      "Training set score:  0.9428\n",
      "Test set score:  0.8911\n",
      "\n",
      "Confusion Matrix:\n",
      "       predicted_0  predicted_1\n",
      "is_0         1979          204\n",
      "is_1          523         3970\n",
      "\n",
      "Classification Report:\n",
      "              precision    recall  f1-score   support\n",
      "\n",
      "          0       0.79      0.91      0.84      2183\n",
      "          1       0.95      0.88      0.92      4493\n",
      "\n",
      "avg / total       0.90      0.89      0.89      6676\n",
      "\n"
     ]
    }
   ],
   "source": [
    "run_model(df_train, y_train, df_test, y_test, linearsvc)"
   ]
  },
  {
   "cell_type": "markdown",
   "metadata": {
    "collapsed": true
   },
   "source": [
    "# Neural Networks using Tensorflow"
   ]
  },
  {
   "cell_type": "code",
   "execution_count": 312,
   "metadata": {},
   "outputs": [],
   "source": [
    "import tensorflow as tf\n",
    "from sklearn import metrics\n",
    "from keras.utils import to_categorical\n",
    "import matplotlib.pyplot as plt\n",
    "%matplotlib inline"
   ]
  },
  {
   "cell_type": "code",
   "execution_count": 313,
   "metadata": {},
   "outputs": [],
   "source": [
    "# y1 = y_train.ravel()\n",
    "# y_train = np.array(y1).astype(int)\n",
    "# y2 = y_test.ravel()\n",
    "# y_test = np.array(y2).astype(int)"
   ]
  },
  {
   "cell_type": "code",
   "execution_count": 314,
   "metadata": {},
   "outputs": [
    {
     "data": {
      "text/plain": [
       "4"
      ]
     },
     "execution_count": 314,
     "metadata": {},
     "output_type": "execute_result"
    }
   ],
   "source": [
    "kf = KFold(4, shuffle=True, random_state=2003)\n",
    "\n",
    "batches = []\n",
    "for train, test in kf.split(df_train, y_train):\n",
    "    batches.append(test)\n",
    "len(batches)"
   ]
  },
  {
   "cell_type": "code",
   "execution_count": 316,
   "metadata": {},
   "outputs": [
    {
     "name": "stdout",
     "output_type": "stream",
     "text": [
      "epoch 0 train loss 0.729749 test loss 0.733013\n",
      "epoch 1 train loss 0.673362 test loss 0.656746\n",
      "epoch 2 train loss 0.648435 test loss 0.648778\n",
      "epoch 3 train loss 0.658367 test loss 0.650174\n",
      "epoch 4 train loss 0.642988 test loss 0.643976\n",
      "epoch 5 train loss 0.651842 test loss 0.633619\n",
      "epoch 6 train loss 0.6616 test loss 0.639076\n",
      "epoch 7 train loss 0.656378 test loss 0.626278\n",
      "epoch 8 train loss 0.65399 test loss 0.631289\n",
      "epoch 9 train loss 0.649005 test loss 0.6284\n",
      "epoch 10 train loss 0.665981 test loss 0.628503\n",
      "epoch 11 train loss 0.660299 test loss 0.621969\n",
      "epoch 12 train loss 0.660562 test loss 0.622858\n",
      "epoch 13 train loss 0.662346 test loss 0.624439\n",
      "epoch 14 train loss 0.659995 test loss 0.625071\n",
      "epoch 15 train loss 0.646064 test loss 0.626855\n",
      "epoch 16 train loss 0.650282 test loss 0.623049\n",
      "epoch 17 train loss 0.655919 test loss 0.620121\n",
      "epoch 18 train loss 0.654679 test loss 0.619614\n",
      "epoch 19 train loss 0.652748 test loss 0.619462\n",
      "epoch 20 train loss 0.652646 test loss 0.621511\n",
      "epoch 21 train loss 0.653014 test loss 0.621638\n",
      "epoch 22 train loss 0.654734 test loss 0.619979\n",
      "epoch 23 train loss 0.650869 test loss 0.617121\n",
      "epoch 24 train loss 0.650447 test loss 0.617143\n"
     ]
    }
   ],
   "source": [
    "tf.reset_default_graph()\n",
    "\n",
    "X = tf.placeholder(dtype=tf.float32, shape=(None, df_train.shape[1]), name='X')\n",
    "y = tf.placeholder(dtype=tf.float32, shape=(None), name='y')\n",
    "\n",
    "h1 = tf.layers.dense(X, 30, name='hidden1', activation=tf.nn.relu)\n",
    "h2 = tf.layers.dense(h1, 30, name='hidden2', activation=tf.nn.relu)\n",
    "h3 = tf.layers.dense(h2, 30, name='hidden3', activation=tf.nn.relu)\n",
    "h4 = tf.layers.dense(h3, 30, name='hidden4', activation=tf.nn.relu)\n",
    "y_hat = tf.layers.dense(h4, 1, name='y_hat', activation=tf.nn.sigmoid)\n",
    "\n",
    "loss = tf.losses.log_loss(y, y_hat)\n",
    "\n",
    "optimizer = tf.train.AdamOptimizer(.01)\n",
    "\n",
    "training_op = optimizer.minimize(loss)\n",
    "\n",
    "\n",
    "init = tf.global_variables_initializer()\n",
    "\n",
    "with tf.Session() as sess:\n",
    "    init.run()\n",
    "    \n",
    "    for epoch in range(25):\n",
    "        sess.run(training_op, feed_dict={X: df_train, y: y_train})\n",
    "        \n",
    "        train_loss = sess.run(loss,feed_dict={X: df_train, y: y_train})\n",
    "        test_loss = sess.run(loss, feed_dict={X: df_test, y: y_test})\n",
    "      \n",
    "        print('epoch', epoch,'train loss',train_loss,'test loss',test_loss)\n",
    "   \n",
    "    pred = sess.run(y_hat, feed_dict={X: df_test})"
   ]
  },
  {
   "cell_type": "code",
   "execution_count": 317,
   "metadata": {},
   "outputs": [
    {
     "data": {
      "text/plain": [
       "0.68304373876572799"
      ]
     },
     "execution_count": 317,
     "metadata": {},
     "output_type": "execute_result"
    }
   ],
   "source": [
    "pred = (pred > .5).astype(int)\n",
    "metrics.accuracy_score(y_test,pred)"
   ]
  },
  {
   "cell_type": "code",
   "execution_count": 318,
   "metadata": {},
   "outputs": [
    {
     "data": {
      "text/plain": [
       "array([[   0, 2116],\n",
       "       [   0, 4560]])"
      ]
     },
     "execution_count": 318,
     "metadata": {},
     "output_type": "execute_result"
    }
   ],
   "source": [
    "metrics.confusion_matrix(y_test,pred)"
   ]
  },
  {
   "cell_type": "markdown",
   "metadata": {
    "collapsed": true
   },
   "source": [
    "# Logistic Regression"
   ]
  },
  {
   "cell_type": "code",
   "execution_count": 503,
   "metadata": {},
   "outputs": [
    {
     "data": {
      "text/plain": [
       "LogisticRegression(C=1.0, class_weight=None, dual=False, fit_intercept=True,\n",
       "          intercept_scaling=1, max_iter=100, multi_class='ovr', n_jobs=1,\n",
       "          penalty='l2', random_state=None, solver='liblinear', tol=0.0001,\n",
       "          verbose=0, warm_start=False)"
      ]
     },
     "execution_count": 503,
     "metadata": {},
     "output_type": "execute_result"
    }
   ],
   "source": [
    "logistic =LogisticRegression()\n",
    "logistic.fit(df_train, y_train)\n"
   ]
  },
  {
   "cell_type": "code",
   "execution_count": 504,
   "metadata": {},
   "outputs": [
    {
     "name": "stdout",
     "output_type": "stream",
     "text": [
      "Base model score: 0.6730\n",
      "Training set score:  0.9351\n",
      "Test set score:  0.9005\n",
      "\n",
      "Confusion Matrix:\n",
      "       predicted_0  predicted_1\n",
      "is_0         2002          181\n",
      "is_1          483         4010\n",
      "\n",
      "Classification Report:\n",
      "              precision    recall  f1-score   support\n",
      "\n",
      "          0       0.81      0.92      0.86      2183\n",
      "          1       0.96      0.89      0.92      4493\n",
      "\n",
      "avg / total       0.91      0.90      0.90      6676\n",
      "\n"
     ]
    }
   ],
   "source": [
    "run_model(df_train, y_train, df_test, y_test,logistic)"
   ]
  },
  {
   "cell_type": "code",
   "execution_count": 505,
   "metadata": {},
   "outputs": [
    {
     "data": {
      "text/plain": [
       "0.93514829570606461"
      ]
     },
     "execution_count": 505,
     "metadata": {},
     "output_type": "execute_result"
    }
   ],
   "source": [
    "logistic.score(df_train,y_train)"
   ]
  },
  {
   "cell_type": "code",
   "execution_count": 506,
   "metadata": {},
   "outputs": [
    {
     "data": {
      "text/plain": [
       "0.90053924505692029"
      ]
     },
     "execution_count": 506,
     "metadata": {},
     "output_type": "execute_result"
    }
   ],
   "source": [
    "logistic.score(df_test,y_test)"
   ]
  },
  {
   "cell_type": "markdown",
   "metadata": {},
   "source": [
    "# Principal Component Analysis"
   ]
  },
  {
   "cell_type": "code",
   "execution_count": 507,
   "metadata": {
    "collapsed": true
   },
   "outputs": [],
   "source": [
    "from sklearn.decomposition import PCA"
   ]
  },
  {
   "cell_type": "code",
   "execution_count": 508,
   "metadata": {},
   "outputs": [
    {
     "name": "stdout",
     "output_type": "stream",
     "text": [
      "0.732846186922\n"
     ]
    }
   ],
   "source": [
    "pca = PCA(n_components=2)\n",
    "Xt = pca.fit_transform(df_train)\n",
    "\n",
    "rfc = RandomForestClassifier()\n",
    "print(cross_val_score(rfc, Xt, y_train, cv=5).mean())"
   ]
  },
  {
   "cell_type": "code",
   "execution_count": null,
   "metadata": {
    "collapsed": true
   },
   "outputs": [],
   "source": []
  }
 ],
 "metadata": {
  "kernelspec": {
   "display_name": "Python 3",
   "language": "python",
   "name": "python3"
  },
  "language_info": {
   "codemirror_mode": {
    "name": "ipython",
    "version": 3
   },
   "file_extension": ".py",
   "mimetype": "text/x-python",
   "name": "python",
   "nbconvert_exporter": "python",
   "pygments_lexer": "ipython3",
   "version": "3.6.1"
  }
 },
 "nbformat": 4,
 "nbformat_minor": 2
}
